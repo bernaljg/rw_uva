{
 "cells": [
  {
   "cell_type": "code",
   "execution_count": 2,
   "id": "970825f1",
   "metadata": {},
   "outputs": [],
   "source": [
    "import pickle\n",
    "import numpy as np\n",
    "import pandas as pd\n",
    "import os\n",
    "from tqdm import tqdm\n",
    "import torch\n",
    "import transformers\n",
    "from transformers import AutoModel, BertTokenizer, AutoTokenizer, AutoModelForNextSentencePrediction\n",
    "\n",
    "import sys"
   ]
  },
  {
   "cell_type": "code",
   "execution_count": 3,
   "id": "84141d3b",
   "metadata": {},
   "outputs": [],
   "source": [
    "tokenizer_filename = '/data/Bodenreider_UMLS_DL/thilini/EXPERIMENTS/aui_vec/umls-vocab.txt'\n",
    "pt_model = '/data/Bodenreider_UMLS_DL/thilini/EXPERIMENTS/1_UMLS_ONLY/train_sp/out_all_correct_metric_from_32/checkpoint-290020_2/'"
   ]
  },
  {
   "cell_type": "code",
   "execution_count": 20,
   "id": "ebbf3812",
   "metadata": {},
   "outputs": [],
   "source": [
    "tokenizer_filename =  'cambridgeltl/SapBERT-from-PubMedBERT-fulltext'\n",
    "pt_model = \"/data/Bodenreider_UMLS_DL/thilini/EXPERIMENTS/6_SAPBERT_SP/train/out_from_sapbert_from_3/checkpoint-986068/\""
   ]
  },
  {
   "cell_type": "code",
   "execution_count": 5,
   "id": "d495682c",
   "metadata": {},
   "outputs": [],
   "source": [
    "try:\n",
    "    tokenizer = BertTokenizer(tokenizer_filename)\n",
    "except:\n",
    "    tokenizer = AutoTokenizer.from_pretrained(tokenizer_filename)\n",
    "    \n",
    "model = AutoModelForNextSentencePrediction.from_pretrained(pt_model)\n",
    "# model.to('cuda')"
   ]
  },
  {
   "cell_type": "code",
   "execution_count": null,
   "id": "81729318",
   "metadata": {},
   "outputs": [],
   "source": [
    "print('Loading Strings')\n",
    "\n",
    "real_world_pairs = pickle.load(open('/data/Bodenreider_UMLS_DL/Interns/Bernal/uva_test_edges.p','rb'))\n",
    "\n",
    "print('Start Classifying')\n",
    "\n"
   ]
  },
  {
   "cell_type": "code",
   "execution_count": null,
   "id": "f3ecdea7",
   "metadata": {},
   "outputs": [],
   "source": [
    "real_world_pairs = np.random.RandomState(42).permutation(real_world_pairs)\n",
    "testing_data_df = pd.DataFrame(real_world_pairs)\n",
    "\n",
    "validation_set = []\n",
    "testing_set = []\n",
    "\n",
    "for i,g in testing_data_df.groupby(2):\n",
    "    \n",
    "    perm = g.sample(len(g), random_state=np.random.RandomState(42))\n",
    "    \n",
    "    val = perm[:int(len(g)*0.01)]\n",
    "    test = perm[int(len(g)*0.01):]\n",
    "    \n",
    "    validation_set.append(val)\n",
    "    testing_set.append(test)\n",
    "\n",
    "validation_set = pd.concat(validation_set)\n",
    "testing_set = pd.concat(testing_set)\n",
    "\n",
    "subset = [(h,t,l) for h,t,l in zip(validation_set[0],validation_set[1],validation_set[2])]"
   ]
  },
  {
   "cell_type": "code",
   "execution_count": 6,
   "id": "22d47dd9",
   "metadata": {},
   "outputs": [
    {
     "name": "stdout",
     "output_type": "stream",
     "text": [
      "Loading Strings\n",
      "Start Classifying\n"
     ]
    }
   ],
   "source": [
    "print('Loading Strings')\n",
    "\n",
    "subset = pickle.load(open('/data/Bodenreider_UMLS_DL/Interns/Bernal/uva_test_subset.p','rb'))\n",
    "\n",
    "print('Start Classifying')"
   ]
  },
  {
   "cell_type": "code",
   "execution_count": 7,
   "id": "5047cecc",
   "metadata": {},
   "outputs": [],
   "source": [
    "transformers.logging.set_verbosity_error()"
   ]
  },
  {
   "cell_type": "code",
   "execution_count": 8,
   "id": "d1a9d26d",
   "metadata": {},
   "outputs": [
    {
     "data": {
      "text/plain": [
       "17199"
      ]
     },
     "execution_count": 8,
     "metadata": {},
     "output_type": "execute_result"
    }
   ],
   "source": [
    "len(subset)"
   ]
  },
  {
   "cell_type": "code",
   "execution_count": 9,
   "id": "4fcd3bb5",
   "metadata": {},
   "outputs": [
    {
     "name": "stderr",
     "output_type": "stream",
     "text": [
      "100%|████████████████████████████████████████████████████████████████████████████████████████████| 17199/17199 [39:40<00:00,  7.22it/s]\n"
     ]
    }
   ],
   "source": [
    "all_cls = []\n",
    "    \n",
    "with torch.no_grad():\n",
    "    \n",
    "    num_strings_proc = 0\n",
    "    vec_save_batch_num = 0    \n",
    "    batch_sizes = []\n",
    "    \n",
    "    text_batch = []\n",
    "    pad_size = 0\n",
    "        \n",
    "    for head, tail, syn, in tqdm(subset):\n",
    "    \n",
    "        try:\n",
    "            forward = head + ' [SEP] ' + tail + ' [SEP] '\n",
    "            backward = tail + ' [SEP] ' + head + ' [SEP] '\n",
    "        except:\n",
    "            forward = head + tail\n",
    "            backward = head + tail\n",
    "                \n",
    "        length = max(len(forward),len(backward))/3\n",
    "        \n",
    "        text_batch.append((head,tail))\n",
    "        text_batch.append((tail,head))\n",
    "        \n",
    "        num_strings_proc += 1\n",
    "        \n",
    "        if length > pad_size:\n",
    "            pad_size = length\n",
    "        \n",
    "        if pad_size * len(text_batch) > 6000 or num_strings_proc == len(subset):\n",
    "\n",
    "            text_batch = list(text_batch)\n",
    "            \n",
    "            encoding = tokenizer.batch_encode_plus(text_batch, return_tensors='pt', padding=True, truncation=True, max_length=512)\n",
    "            \n",
    "            input_ids = encoding['input_ids']\n",
    "            token_type_ids = encoding['token_type_ids']\n",
    "            attention_mask = encoding['attention_mask']\n",
    "\n",
    "#             input_ids = input_ids.to('cuda')\n",
    "#             token_type_ids = token_type_ids.to('cuda')\n",
    "#             attention_mask = attention_mask.to('cuda')\n",
    "\n",
    "            outputs = model(input_ids, token_type_ids=token_type_ids, attention_mask=attention_mask)\n",
    "            all_cls.append(outputs[0].cpu().numpy())\n",
    "                            \n",
    "            batch_sizes.append(len(text_batch))\n",
    "            text_batch = []\n",
    "            \n",
    "            pad_size = 0\n",
    "                \n",
    "    all_cls = np.vstack(all_cls)"
   ]
  },
  {
   "cell_type": "code",
   "execution_count": 10,
   "id": "836afd6d",
   "metadata": {},
   "outputs": [],
   "source": [
    "all_cls = all_cls[:sum(batch_sizes)]"
   ]
  },
  {
   "cell_type": "code",
   "execution_count": 11,
   "id": "ada06f3b",
   "metadata": {},
   "outputs": [
    {
     "data": {
      "text/plain": [
       "(34398, 34398, 34398)"
      ]
     },
     "execution_count": 11,
     "metadata": {},
     "output_type": "execute_result"
    }
   ],
   "source": [
    "sum(batch_sizes),len(subset)*2,len(all_cls)"
   ]
  },
  {
   "cell_type": "code",
   "execution_count": 12,
   "id": "6faafdd4",
   "metadata": {},
   "outputs": [],
   "source": [
    "forward_preds = []\n",
    "backward_preds = []\n",
    "\n",
    "for i,p in enumerate(all_cls):\n",
    "    if i % 2 == 0:\n",
    "        forward_preds.append(p)\n",
    "    else:\n",
    "        backward_preds.append(p)"
   ]
  },
  {
   "cell_type": "code",
   "execution_count": 13,
   "id": "8374ef58",
   "metadata": {},
   "outputs": [
    {
     "data": {
      "text/plain": [
       "(34398, 2)"
      ]
     },
     "execution_count": 13,
     "metadata": {},
     "output_type": "execute_result"
    }
   ],
   "source": [
    "all_cls.shape"
   ]
  },
  {
   "cell_type": "code",
   "execution_count": 14,
   "id": "7c7eaddc",
   "metadata": {},
   "outputs": [
    {
     "data": {
      "text/plain": [
       "17199"
      ]
     },
     "execution_count": 14,
     "metadata": {},
     "output_type": "execute_result"
    }
   ],
   "source": [
    "len(subset)"
   ]
  },
  {
   "cell_type": "code",
   "execution_count": 15,
   "id": "58a2b6a3",
   "metadata": {},
   "outputs": [],
   "source": [
    "edges_to_test_df = pd.DataFrame(subset)"
   ]
  },
  {
   "cell_type": "code",
   "execution_count": 16,
   "id": "c0a61058",
   "metadata": {},
   "outputs": [],
   "source": [
    "edges_to_test_df['forward_pred'] = np.argmax(np.vstack(forward_preds),axis=1)\n",
    "edges_to_test_df['backward_pred'] = np.argmax(np.vstack(backward_preds),axis=1)\n",
    "\n",
    "edges_to_test_df['forward_pred'] = [e for e in edges_to_test_df['forward_pred']]\n",
    "edges_to_test_df['backward_pred'] = [e for e in edges_to_test_df['backward_pred']]"
   ]
  },
  {
   "cell_type": "code",
   "execution_count": 17,
   "id": "275c6666",
   "metadata": {},
   "outputs": [],
   "source": [
    "edges_to_test_df['f_probs'] = forward_preds\n",
    "edges_to_test_df['b_probs'] = backward_preds"
   ]
  },
  {
   "cell_type": "code",
   "execution_count": 18,
   "id": "ad0fe690",
   "metadata": {},
   "outputs": [
    {
     "data": {
      "text/html": [
       "<div>\n",
       "<style scoped>\n",
       "    .dataframe tbody tr th:only-of-type {\n",
       "        vertical-align: middle;\n",
       "    }\n",
       "\n",
       "    .dataframe tbody tr th {\n",
       "        vertical-align: top;\n",
       "    }\n",
       "\n",
       "    .dataframe thead th {\n",
       "        text-align: right;\n",
       "    }\n",
       "</style>\n",
       "<table border=\"1\" class=\"dataframe\">\n",
       "  <thead>\n",
       "    <tr style=\"text-align: right;\">\n",
       "      <th></th>\n",
       "      <th>0</th>\n",
       "      <th>1</th>\n",
       "      <th>2</th>\n",
       "      <th>forward_pred</th>\n",
       "      <th>backward_pred</th>\n",
       "      <th>f_probs</th>\n",
       "      <th>b_probs</th>\n",
       "    </tr>\n",
       "  </thead>\n",
       "  <tbody>\n",
       "    <tr>\n",
       "      <th>0</th>\n",
       "      <td>OXYGEN 99 L in 100 L RESPIRATORY (INHALATION) GAS</td>\n",
       "      <td>OXYGEN 990 mL in 1 L RESPIRATORY (INHALATION) GAS</td>\n",
       "      <td>0</td>\n",
       "      <td>0</td>\n",
       "      <td>0</td>\n",
       "      <td>[7.168312, -7.668907]</td>\n",
       "      <td>[7.1089563, -7.727689]</td>\n",
       "    </tr>\n",
       "    <tr>\n",
       "      <th>1</th>\n",
       "      <td>chlorambucil</td>\n",
       "      <td>para-N,N-di(b-chloroethyl)aminophenylbutyric acid</td>\n",
       "      <td>0</td>\n",
       "      <td>0</td>\n",
       "      <td>0</td>\n",
       "      <td>[6.863706, -7.969083]</td>\n",
       "      <td>[3.7867756, -3.911776]</td>\n",
       "    </tr>\n",
       "    <tr>\n",
       "      <th>2</th>\n",
       "      <td>Aspirin 325 mg in 325 mg ORAL TABLET [Value Ph...</td>\n",
       "      <td>ASPIRIN 325 mg ORAL TABLET, COATED [aspirin pa...</td>\n",
       "      <td>0</td>\n",
       "      <td>0</td>\n",
       "      <td>0</td>\n",
       "      <td>[8.269983, -5.4136357]</td>\n",
       "      <td>[7.5090084, -7.3260393]</td>\n",
       "    </tr>\n",
       "    <tr>\n",
       "      <th>3</th>\n",
       "      <td>SPINOCEREBELLAR ATAXIA, X-LINKED 3</td>\n",
       "      <td>Spinocerebellar ataxia, X-linked, 3</td>\n",
       "      <td>0</td>\n",
       "      <td>1</td>\n",
       "      <td>1</td>\n",
       "      <td>[-0.08090535, 0.10617712]</td>\n",
       "      <td>[-0.09343867, 0.1295889]</td>\n",
       "    </tr>\n",
       "    <tr>\n",
       "      <th>4</th>\n",
       "      <td>toldimfos sodium 200 MG/ML Injectable Solution...</td>\n",
       "      <td>TOLDIMFOS SODIUM 200 mg in 1 mL INTRAMUSCULAR ...</td>\n",
       "      <td>0</td>\n",
       "      <td>0</td>\n",
       "      <td>0</td>\n",
       "      <td>[7.3894987, -7.448188]</td>\n",
       "      <td>[2.0362377, -2.3767476]</td>\n",
       "    </tr>\n",
       "    <tr>\n",
       "      <th>...</th>\n",
       "      <td>...</td>\n",
       "      <td>...</td>\n",
       "      <td>...</td>\n",
       "      <td>...</td>\n",
       "      <td>...</td>\n",
       "      <td>...</td>\n",
       "      <td>...</td>\n",
       "    </tr>\n",
       "    <tr>\n",
       "      <th>17194</th>\n",
       "      <td>eprinomectin</td>\n",
       "      <td>eprinomectin 50 MG/ML</td>\n",
       "      <td>1</td>\n",
       "      <td>1</td>\n",
       "      <td>1</td>\n",
       "      <td>[-2.8573313, 11.776593]</td>\n",
       "      <td>[-2.7095888, 11.607813]</td>\n",
       "    </tr>\n",
       "    <tr>\n",
       "      <th>17195</th>\n",
       "      <td>Regurgitation</td>\n",
       "      <td>mitral regurgitation due to acute myocardial i...</td>\n",
       "      <td>1</td>\n",
       "      <td>1</td>\n",
       "      <td>1</td>\n",
       "      <td>[-2.8647547, 11.786915]</td>\n",
       "      <td>[-2.8571477, 11.776012]</td>\n",
       "    </tr>\n",
       "    <tr>\n",
       "      <th>17196</th>\n",
       "      <td>Reticular dysgenesia</td>\n",
       "      <td>Nervous system of pectoral girdle</td>\n",
       "      <td>1</td>\n",
       "      <td>1</td>\n",
       "      <td>1</td>\n",
       "      <td>[-2.8814619, 11.813187]</td>\n",
       "      <td>[-2.8857632, 11.821387]</td>\n",
       "    </tr>\n",
       "    <tr>\n",
       "      <th>17197</th>\n",
       "      <td>COQ9 gene</td>\n",
       "      <td>Genes</td>\n",
       "      <td>1</td>\n",
       "      <td>1</td>\n",
       "      <td>1</td>\n",
       "      <td>[-2.875341, 11.802918]</td>\n",
       "      <td>[-2.8411045, 11.755026]</td>\n",
       "    </tr>\n",
       "    <tr>\n",
       "      <th>17198</th>\n",
       "      <td>TG-Phos compound</td>\n",
       "      <td>Trichodactylus kensleyi</td>\n",
       "      <td>1</td>\n",
       "      <td>1</td>\n",
       "      <td>1</td>\n",
       "      <td>[-2.8806477, 11.811956]</td>\n",
       "      <td>[-2.88052, 11.811647]</td>\n",
       "    </tr>\n",
       "  </tbody>\n",
       "</table>\n",
       "<p>17199 rows × 7 columns</p>\n",
       "</div>"
      ],
      "text/plain": [
       "                                                       0  \\\n",
       "0      OXYGEN 99 L in 100 L RESPIRATORY (INHALATION) GAS   \n",
       "1                                           chlorambucil   \n",
       "2      Aspirin 325 mg in 325 mg ORAL TABLET [Value Ph...   \n",
       "3                     SPINOCEREBELLAR ATAXIA, X-LINKED 3   \n",
       "4      toldimfos sodium 200 MG/ML Injectable Solution...   \n",
       "...                                                  ...   \n",
       "17194                                       eprinomectin   \n",
       "17195                                      Regurgitation   \n",
       "17196                               Reticular dysgenesia   \n",
       "17197                                          COQ9 gene   \n",
       "17198                                   TG-Phos compound   \n",
       "\n",
       "                                                       1  2  forward_pred  \\\n",
       "0      OXYGEN 990 mL in 1 L RESPIRATORY (INHALATION) GAS  0             0   \n",
       "1      para-N,N-di(b-chloroethyl)aminophenylbutyric acid  0             0   \n",
       "2      ASPIRIN 325 mg ORAL TABLET, COATED [aspirin pa...  0             0   \n",
       "3                    Spinocerebellar ataxia, X-linked, 3  0             1   \n",
       "4      TOLDIMFOS SODIUM 200 mg in 1 mL INTRAMUSCULAR ...  0             0   \n",
       "...                                                  ... ..           ...   \n",
       "17194                              eprinomectin 50 MG/ML  1             1   \n",
       "17195  mitral regurgitation due to acute myocardial i...  1             1   \n",
       "17196                  Nervous system of pectoral girdle  1             1   \n",
       "17197                                              Genes  1             1   \n",
       "17198                            Trichodactylus kensleyi  1             1   \n",
       "\n",
       "       backward_pred                    f_probs                   b_probs  \n",
       "0                  0      [7.168312, -7.668907]    [7.1089563, -7.727689]  \n",
       "1                  0      [6.863706, -7.969083]    [3.7867756, -3.911776]  \n",
       "2                  0     [8.269983, -5.4136357]   [7.5090084, -7.3260393]  \n",
       "3                  1  [-0.08090535, 0.10617712]  [-0.09343867, 0.1295889]  \n",
       "4                  0     [7.3894987, -7.448188]   [2.0362377, -2.3767476]  \n",
       "...              ...                        ...                       ...  \n",
       "17194              1    [-2.8573313, 11.776593]   [-2.7095888, 11.607813]  \n",
       "17195              1    [-2.8647547, 11.786915]   [-2.8571477, 11.776012]  \n",
       "17196              1    [-2.8814619, 11.813187]   [-2.8857632, 11.821387]  \n",
       "17197              1     [-2.875341, 11.802918]   [-2.8411045, 11.755026]  \n",
       "17198              1    [-2.8806477, 11.811956]     [-2.88052, 11.811647]  \n",
       "\n",
       "[17199 rows x 7 columns]"
      ]
     },
     "execution_count": 18,
     "metadata": {},
     "output_type": "execute_result"
    }
   ],
   "source": [
    "edges_to_test_df"
   ]
  },
  {
   "cell_type": "code",
   "execution_count": 21,
   "id": "1f56a6d2",
   "metadata": {},
   "outputs": [],
   "source": [
    "from sklearn import metrics"
   ]
  },
  {
   "cell_type": "code",
   "execution_count": 19,
   "id": "ce385144",
   "metadata": {},
   "outputs": [],
   "source": [
    "labels = [int(e) for e in edges_to_test_df[2]]"
   ]
  },
  {
   "cell_type": "code",
   "execution_count": 22,
   "id": "8d55b073",
   "metadata": {},
   "outputs": [],
   "source": [
    "f_p, f_r, forward_ubert_f1, f_s = metrics.precision_recall_fscore_support(labels, edges_to_test_df['forward_pred'], pos_label=0, average='binary')\n",
    "b_p, b_r, backward_ubert_f1, b_s = metrics.precision_recall_fscore_support(labels, edges_to_test_df['backward_pred'], pos_label=0, average='binary')"
   ]
  },
  {
   "cell_type": "code",
   "execution_count": 23,
   "id": "b02083ec",
   "metadata": {},
   "outputs": [
    {
     "data": {
      "text/plain": [
       "(0.93015332197615, 0.8863636363636364, 0.978494623655914)"
      ]
     },
     "execution_count": 23,
     "metadata": {},
     "output_type": "execute_result"
    }
   ],
   "source": [
    "forward_ubert_f1, f_p, f_r"
   ]
  },
  {
   "cell_type": "code",
   "execution_count": 28,
   "id": "c0beca0c",
   "metadata": {},
   "outputs": [
    {
     "data": {
      "text/plain": [
       "[3208, 2883, 54, 194, 549, 54, 1351, 12, 3617, 13, 1482]"
      ]
     },
     "execution_count": 28,
     "metadata": {},
     "output_type": "execute_result"
    }
   ],
   "source": [
    "aui_string = 'OXYGEN 99 L in 100 L RESPIRATORY (INHALATION) GAS'\n",
    "aui_tokens = tokenizer.tokenize(aui_string)\n",
    "tokenizer.convert_tokens_to_ids(aui_tokens)"
   ]
  },
  {
   "cell_type": "code",
   "execution_count": 29,
   "id": "9216e874",
   "metadata": {},
   "outputs": [
    {
     "data": {
      "text/plain": [
       "'oxygen 99 l in 100 l respiratory ( inhalation ) gas'"
      ]
     },
     "execution_count": 29,
     "metadata": {},
     "output_type": "execute_result"
    }
   ],
   "source": [
    "tokenizer.decode([3208, 2883, 54, 194, 549, 54, 1351, 12, 3617, 13, 1482])"
   ]
  },
  {
   "cell_type": "code",
   "execution_count": null,
   "id": "f66eb133",
   "metadata": {},
   "outputs": [],
   "source": []
  }
 ],
 "metadata": {
  "kernelspec": {
   "display_name": "Python 3 (ipykernel)",
   "language": "python",
   "name": "python3"
  },
  "language_info": {
   "codemirror_mode": {
    "name": "ipython",
    "version": 3
   },
   "file_extension": ".py",
   "mimetype": "text/x-python",
   "name": "python",
   "nbconvert_exporter": "python",
   "pygments_lexer": "ipython3",
   "version": "3.7.12"
  }
 },
 "nbformat": 4,
 "nbformat_minor": 5
}
