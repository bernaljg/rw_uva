{
 "cells": [
  {
   "cell_type": "code",
   "execution_count": 78,
   "id": "ca228676",
   "metadata": {},
   "outputs": [],
   "source": [
    "import pickle\n",
    "import pandas as pd\n",
    "from tqdm import tqdm\n",
    "import numpy as np\n",
    "import copy"
   ]
  },
  {
   "cell_type": "code",
   "execution_count": 2,
   "id": "0241133e",
   "metadata": {},
   "outputs": [],
   "source": [
    "pd.set_option('display.max_rows',500)"
   ]
  },
  {
   "cell_type": "code",
   "execution_count": 3,
   "id": "ff88ce75",
   "metadata": {},
   "outputs": [],
   "source": [
    "aui_info = []\n",
    "\n",
    "with open('/data/Bodenreider_UMLS_DL/UMLS_VERSIONS/2020AB-ACTIVE/META/MRCONSO.RRF','r') as fp:\n",
    "    \n",
    "    for line in fp.readlines():\n",
    "        line = line.split('|')\n",
    "        cui = line[0]\n",
    "        aui = line[7]\n",
    "        string = line[-5]\n",
    "        \n",
    "        aui_info.append({'AUI':aui, 'CUI':cui, 'STR':string})\n",
    "        \n",
    "cui2sg = {}\n",
    "\n",
    "with open('/data/Bodenreider_UMLS_DL/UMLS_VERSIONS/2020AB-ACTIVE/META/MRSTY.RRF','r') as fp:\n",
    "    \n",
    "    for line in fp.readlines():\n",
    "        line = line.split('|')\n",
    "        cui = line[0]\n",
    "        sg = line[3]\n",
    "        cui2sg[cui] = sg\n",
    "        \n",
    "original_umls = pickle.load(open('/data/Bodenreider_UMLS_DL/Interns/Vishesh/eval_umls/INTERSECT_AUI2ID.PICKLE','rb'))\n",
    "new_auis = pickle.load(open('/data/Bodenreider_UMLS_DL/Interns/Vishesh/eval_umls/UNIQUE_AUI2ID.PICKLE','rb'))\n",
    "\n",
    "aui_vecs  = pickle.load(open('/data/Bodenreider_UMLS_DL/Interns/Vishesh/eval_umls/AUI2LAYER.PICKLE','rb'))\n",
    "\n",
    "all_2020_auis = set(original_umls.keys()).union(new_auis.keys())\n",
    "\n",
    "cui2aui = {}\n",
    "aui2cui = {}\n",
    "aui2str = {}\n",
    "aui2sg = {}\n",
    "\n",
    "cui_sg = []\n",
    "cui_aui = []\n",
    "\n",
    "for tup in aui_info:\n",
    "    aui = tup['AUI']\n",
    "    \n",
    "    if aui in all_2020_auis:        \n",
    "        cui = tup['CUI']\n",
    "        string = tup['STR']\n",
    "        sg = cui2sg[cui]\n",
    "\n",
    "        auis = cui2aui.get(cui, [])\n",
    "        auis.append(aui)\n",
    "        cui2aui[cui] = auis\n",
    "\n",
    "        aui2cui[aui] = cui\n",
    "        aui2str[aui] = string\n",
    "\n",
    "        cui_sg.append((cui, sg))\n",
    "        cui_aui.append((cui, aui))"
   ]
  },
  {
   "cell_type": "code",
   "execution_count": 4,
   "id": "d9e3cfd6",
   "metadata": {},
   "outputs": [
    {
     "data": {
      "text/plain": [
       "8951355"
      ]
     },
     "execution_count": 4,
     "metadata": {},
     "output_type": "execute_result"
    }
   ],
   "source": [
    "len(aui_vecs)"
   ]
  },
  {
   "cell_type": "code",
   "execution_count": 5,
   "id": "541506d3",
   "metadata": {},
   "outputs": [
    {
     "data": {
      "text/plain": [
       "(8521220, 430135, 8951355)"
      ]
     },
     "execution_count": 5,
     "metadata": {},
     "output_type": "execute_result"
    }
   ],
   "source": [
    "len(original_umls), len(new_auis), len(original_umls) + len(new_auis)"
   ]
  },
  {
   "cell_type": "code",
   "execution_count": 6,
   "id": "c2798b91",
   "metadata": {},
   "outputs": [
    {
     "data": {
      "text/plain": [
       "50"
      ]
     },
     "execution_count": 6,
     "metadata": {},
     "output_type": "execute_result"
    }
   ],
   "source": [
    "len(aui_vecs[8713809])"
   ]
  },
  {
   "cell_type": "code",
   "execution_count": 59,
   "id": "a0586d23",
   "metadata": {},
   "outputs": [
    {
     "data": {
      "text/plain": [
       "(set(), set())"
      ]
     },
     "execution_count": 59,
     "metadata": {},
     "output_type": "execute_result"
    }
   ],
   "source": [
    "set(original_umls.values()).intersection(set(new_auis.values())), set(original_umls.keys()).intersection(set(new_auis.keys()))"
   ]
  },
  {
   "cell_type": "code",
   "execution_count": 8,
   "id": "eb046ff8",
   "metadata": {},
   "outputs": [],
   "source": [
    "original_umls_2020 = []\n",
    "\n",
    "for aui in original_umls.keys():\n",
    "    original_umls_2020.append((aui, aui2str[aui]))\n",
    "    \n",
    "new_umls_2020 = []\n",
    "\n",
    "for aui in new_auis.keys():\n",
    "    new_umls_2020.append((aui, aui2str[aui]))"
   ]
  },
  {
   "cell_type": "code",
   "execution_count": null,
   "id": "8f5d9367",
   "metadata": {},
   "outputs": [],
   "source": [
    "# pickle.dump((original_umls_2020, new_umls_2020), open('aui_string_map_UMLS2020_update.p','wb'))"
   ]
  },
  {
   "cell_type": "code",
   "execution_count": 9,
   "id": "83372b9a",
   "metadata": {},
   "outputs": [],
   "source": [
    "original_umls_cuis = set()\n",
    "\n",
    "for aui in original_umls.keys():\n",
    "    \n",
    "    original_umls_cuis.add(aui2cui[aui])"
   ]
  },
  {
   "cell_type": "code",
   "execution_count": 10,
   "id": "ec8d83a5",
   "metadata": {},
   "outputs": [],
   "source": [
    "new_aui2cui = {}\n",
    "\n",
    "for aui in new_auis.keys():\n",
    "    \n",
    "    new_aui2cui[aui] = aui2cui[aui]"
   ]
  },
  {
   "cell_type": "code",
   "execution_count": 11,
   "id": "84fb3261",
   "metadata": {},
   "outputs": [],
   "source": [
    "original_aui2cui = {}\n",
    "\n",
    "for aui in original_umls.keys():\n",
    "    \n",
    "    original_aui2cui[aui] = aui2cui[aui]"
   ]
  },
  {
   "cell_type": "code",
   "execution_count": 12,
   "id": "8d14f673",
   "metadata": {},
   "outputs": [
    {
     "data": {
      "text/plain": [
       "3998197"
      ]
     },
     "execution_count": 12,
     "metadata": {},
     "output_type": "execute_result"
    }
   ],
   "source": [
    "len(original_umls_cuis)"
   ]
  },
  {
   "cell_type": "code",
   "execution_count": 13,
   "id": "adde7d37",
   "metadata": {},
   "outputs": [],
   "source": [
    "original_synonym_dict = {}\n",
    "\n",
    "for aui, cui in original_aui2cui.items():        \n",
    "    \n",
    "    auis = copy.deepcopy(cui2aui[cui])\n",
    "    auis.remove(aui)\n",
    "    \n",
    "    original_synonym_dict[aui] = auis"
   ]
  },
  {
   "cell_type": "code",
   "execution_count": 14,
   "id": "d3473afa",
   "metadata": {},
   "outputs": [],
   "source": [
    "new_synonym = []\n",
    "new_concepts = []\n",
    "new_synonym_dict = {}\n",
    "\n",
    "for aui, cui in new_aui2cui.items():\n",
    "    \n",
    "    if cui in original_umls_cuis:\n",
    "        new_synonym.append((aui, cui))\n",
    "    else:\n",
    "        new_concepts.append((aui, cui))\n",
    "        \n",
    "    \n",
    "    auis = copy.deepcopy(cui2aui[cui])\n",
    "    auis.remove(aui)\n",
    "    \n",
    "    new_synonym_dict[aui] = auis"
   ]
  },
  {
   "cell_type": "code",
   "execution_count": 15,
   "id": "49245a56",
   "metadata": {},
   "outputs": [
    {
     "data": {
      "text/plain": [
       "(170077, 260058, 430135, 430135)"
      ]
     },
     "execution_count": 15,
     "metadata": {},
     "output_type": "execute_result"
    }
   ],
   "source": [
    "len(new_synonym), len(new_concepts), len(new_aui2cui), len(new_synonym_dict)"
   ]
  },
  {
   "cell_type": "code",
   "execution_count": 18,
   "id": "4631e2e9",
   "metadata": {},
   "outputs": [],
   "source": [
    "# pickle.dump(new_synonym_dict,open('new_umls_synonym_aui_dict.p','wb'))"
   ]
  },
  {
   "cell_type": "code",
   "execution_count": 19,
   "id": "2e2ec189",
   "metadata": {},
   "outputs": [],
   "source": [
    "# pickle.dump(original_synonym_dict,open('original_umls_synonym_aui_dict.p','wb'))"
   ]
  },
  {
   "cell_type": "code",
   "execution_count": 20,
   "id": "a38d56a1",
   "metadata": {},
   "outputs": [],
   "source": [
    "id_array = []\n",
    "id2indices = {}\n",
    "indices2id = {}\n",
    "\n",
    "for val in original_umls.values():\n",
    "    index = len(id2indices)\n",
    "    id2indices[val] = index\n",
    "    indices2id[index] = val\n",
    "    \n",
    "    id_array.append(val)\n",
    "\n",
    "query_id_array = []\n",
    "query_id2indices = {}\n",
    "query_indices2id = {}\n",
    "\n",
    "for val in new_auis.values():\n",
    "    index = len(query_id2indices)\n",
    "    query_id2indices[val] = index\n",
    "    query_indices2id[index] = val\n",
    "    \n",
    "    query_id_array.append(val)"
   ]
  },
  {
   "cell_type": "code",
   "execution_count": 21,
   "id": "036ce42d",
   "metadata": {},
   "outputs": [],
   "source": [
    "id2aui = {}\n",
    "aui2id = {}\n",
    "\n",
    "for aui, ide in original_umls.items():\n",
    "    id2aui[ide] = aui\n",
    "    aui2id[aui] = ide\n",
    "    \n",
    "for aui, ide in new_auis.items():\n",
    "    id2aui[ide] = aui\n",
    "    aui2id[aui] = ide"
   ]
  },
  {
   "cell_type": "code",
   "execution_count": 76,
   "id": "dbde0e60",
   "metadata": {},
   "outputs": [
    {
     "name": "stdout",
     "output_type": "stream",
     "text": [
      "Tyromyces duracinus ||| Equine rhinitis B virus\n"
     ]
    },
    {
     "data": {
      "text/plain": [
       "(1.3113021850585938e-06, 0.13310081)"
      ]
     },
     "execution_count": 76,
     "metadata": {},
     "output_type": "execute_result"
    }
   ],
   "source": [
    "aui1 = 'A32032788'\n",
    "aui2 = 'A3886267'\n",
    "print(aui2str[aui1] + ' ||| ' + aui2str[aui2])\n",
    "a,b = aui_vecs[aui2id[aui1]], aui_vecs[aui2id[aui2]]\n",
    "\n",
    "from numpy import dot\n",
    "from numpy.linalg import norm\n",
    "\n",
    "1 - dot(a, b)/(norm(a)*norm(b)), np.linalg.norm(a - b,ord=1)"
   ]
  },
  {
   "cell_type": "code",
   "execution_count": 77,
   "id": "fa08d33d",
   "metadata": {},
   "outputs": [
    {
     "name": "stdout",
     "output_type": "stream",
     "text": [
      "Tyromyces duracinus ||| Cortinarius duracinus\n"
     ]
    },
    {
     "data": {
      "text/plain": [
       "(0.0007240176200866699, 3.8701441)"
      ]
     },
     "execution_count": 77,
     "metadata": {},
     "output_type": "execute_result"
    }
   ],
   "source": [
    "aui2 = 'A2704051'\n",
    "print(aui2str[aui1] + ' ||| ' + aui2str[aui2])\n",
    "a,b = aui_vecs[aui2id[aui1]], aui_vecs[aui2id[aui2]]\n",
    "\n",
    "from numpy import dot\n",
    "from numpy.linalg import norm\n",
    "\n",
    "1 - dot(a, b)/(norm(a)*norm(b)), np.linalg.norm(a - b,ord=1)"
   ]
  },
  {
   "cell_type": "code",
   "execution_count": 65,
   "id": "1b9bb6fa",
   "metadata": {},
   "outputs": [],
   "source": [
    "vecs = np.array(list(aui_vecs.values()))"
   ]
  },
  {
   "cell_type": "code",
   "execution_count": 69,
   "id": "02f98a3f",
   "metadata": {},
   "outputs": [
    {
     "data": {
      "text/plain": [
       "array([[<AxesSubplot:title={'center':'0'}>]], dtype=object)"
      ]
     },
     "execution_count": 69,
     "metadata": {},
     "output_type": "execute_result"
    },
    {
     "data": {
      "image/png": "[encoded data removed]",
      "text/plain": [
       "<Figure size 432x288 with 1 Axes>"
      ]
     },
     "metadata": {
      "needs_background": "light"
     },
     "output_type": "display_data"
    }
   ],
   "source": [
    "norms = np.linalg.norm(vecs,axis=1)\n",
    "norms = pd.DataFrame(norms)\n",
    "norms[norms[0] < 20].hist()"
   ]
  },
  {
   "cell_type": "code",
   "execution_count": 35,
   "id": "e4f20e2d",
   "metadata": {},
   "outputs": [
    {
     "data": {
      "text/plain": [
       "(array([2.319861  , 0.9865504 , 3.3021483 , 1.0974923 , 2.8918543 ,\n",
       "        2.0947633 , 1.3334606 , 0.81054145, 2.6437688 , 2.866139  ,\n",
       "        0.8055932 , 1.0096594 , 0.63600445, 2.5685222 , 0.962934  ,\n",
       "        2.5148695 , 1.6114473 , 0.        , 2.714445  , 1.32529   ,\n",
       "        0.6387818 , 1.9068384 , 1.2631507 , 1.0672233 , 0.79591024,\n",
       "        1.743697  , 0.9684314 , 1.5937718 , 1.3703375 , 3.1683407 ,\n",
       "        1.5356684 , 0.6817032 , 0.75330794, 0.6834119 , 1.2999877 ,\n",
       "        1.0478973 , 1.2225921 , 1.4411826 , 1.7184582 , 2.9218323 ,\n",
       "        2.6076431 , 2.8134613 , 1.4997447 , 0.        , 1.5726087 ,\n",
       "        1.254936  , 0.83537954, 1.0900419 , 1.4366422 , 2.0053282 ],\n",
       "       dtype=float32),\n",
       " array([2.3185282 , 0.9907217 , 3.3061783 , 1.1016566 , 2.898062  ,\n",
       "        2.0934238 , 1.3321483 , 0.8053138 , 2.649978  , 2.8723588 ,\n",
       "        0.800385  , 1.0138271 , 0.6400974 , 2.567303  , 0.95767134,\n",
       "        2.5210822 , 1.6101199 , 0.        , 2.720676  , 1.3239717 ,\n",
       "        0.6429114 , 1.9055002 , 1.2618151 , 1.061975  , 0.7906771 ,\n",
       "        1.7384877 , 0.9726335 , 1.5978551 , 1.368995  , 3.174559  ,\n",
       "        1.5304458 , 0.68586075, 0.74813133, 0.67820203, 1.2986791 ,\n",
       "        1.042683  , 1.2212534 , 1.4360092 , 1.7132461 , 2.9205055 ,\n",
       "        2.6138551 , 2.819675  , 1.4984034 , 0.        , 1.5712768 ,\n",
       "        1.2535973 , 0.8301539 , 1.0942128 , 1.4314563 , 2.0006666 ],\n",
       "       dtype=float32))"
      ]
     },
     "execution_count": 35,
     "metadata": {},
     "output_type": "execute_result"
    }
   ],
   "source": [
    "aui_vecs[aui2id['A31633223']], aui_vecs[aui2id['A21415194']]"
   ]
  },
  {
   "cell_type": "code",
   "execution_count": 46,
   "id": "b1570014",
   "metadata": {},
   "outputs": [
    {
     "ename": "KeyboardInterrupt",
     "evalue": "",
     "output_type": "error",
     "traceback": [
      "\u001b[0;31m---------------------------------------------------------------------------\u001b[0m",
      "\u001b[0;31mKeyboardInterrupt\u001b[0m                         Traceback (most recent call last)",
      "\u001b[0;32m/tmp/ipykernel_40062/4233533736.py\u001b[0m in \u001b[0;36m<module>\u001b[0;34m\u001b[0m\n\u001b[0;32m----> 1\u001b[0;31m \u001b[0mdts\u001b[0m \u001b[0;34m=\u001b[0m \u001b[0mnp\u001b[0m\u001b[0;34m.\u001b[0m\u001b[0mlinalg\u001b[0m\u001b[0;34m(\u001b[0m\u001b[0mnp\u001b[0m\u001b[0;34m.\u001b[0m\u001b[0marray\u001b[0m\u001b[0;34m(\u001b[0m\u001b[0mlist\u001b[0m\u001b[0;34m(\u001b[0m\u001b[0maui_vecs\u001b[0m\u001b[0;34m.\u001b[0m\u001b[0mvalues\u001b[0m\u001b[0;34m(\u001b[0m\u001b[0;34m)\u001b[0m\u001b[0;34m)\u001b[0m\u001b[0;34m)\u001b[0m \u001b[0;34m-\u001b[0m \u001b[0maui_vecs\u001b[0m\u001b[0;34m[\u001b[0m\u001b[0maui2id\u001b[0m\u001b[0;34m[\u001b[0m\u001b[0;34m'A31633223'\u001b[0m\u001b[0;34m]\u001b[0m\u001b[0;34m]\u001b[0m\u001b[0;34m,\u001b[0m\u001b[0maxis\u001b[0m\u001b[0;34m=\u001b[0m\u001b[0;36m1\u001b[0m\u001b[0;34m)\u001b[0m\u001b[0;34m\u001b[0m\u001b[0;34m\u001b[0m\u001b[0m\n\u001b[0m",
      "\u001b[0;31mKeyboardInterrupt\u001b[0m: "
     ]
    }
   ],
   "source": [
    "dts = np.array(list(aui_vecs.values())) - aui_vecs[aui2id['A31633223']]"
   ]
  },
  {
   "cell_type": "code",
   "execution_count": 50,
   "id": "4387b170",
   "metadata": {},
   "outputs": [],
   "source": [
    "dts = np.linalg.norm(dts,axis=1)"
   ]
  },
  {
   "cell_type": "code",
   "execution_count": 51,
   "id": "2b72c971",
   "metadata": {},
   "outputs": [],
   "source": [
    "dts = pd.DataFrame(dts)"
   ]
  },
  {
   "cell_type": "code",
   "execution_count": 53,
   "id": "b5b5fd97",
   "metadata": {},
   "outputs": [
    {
     "data": {
      "text/html": [
       "<div>\n",
       "<style scoped>\n",
       "    .dataframe tbody tr th:only-of-type {\n",
       "        vertical-align: middle;\n",
       "    }\n",
       "\n",
       "    .dataframe tbody tr th {\n",
       "        vertical-align: top;\n",
       "    }\n",
       "\n",
       "    .dataframe thead th {\n",
       "        text-align: right;\n",
       "    }\n",
       "</style>\n",
       "<table border=\"1\" class=\"dataframe\">\n",
       "  <thead>\n",
       "    <tr style=\"text-align: right;\">\n",
       "      <th></th>\n",
       "      <th>0</th>\n",
       "    </tr>\n",
       "  </thead>\n",
       "  <tbody>\n",
       "    <tr>\n",
       "      <th>count</th>\n",
       "      <td>8.951355e+06</td>\n",
       "    </tr>\n",
       "    <tr>\n",
       "      <th>mean</th>\n",
       "      <td>2.065149e+00</td>\n",
       "    </tr>\n",
       "    <tr>\n",
       "      <th>std</th>\n",
       "      <td>2.560961e+00</td>\n",
       "    </tr>\n",
       "    <tr>\n",
       "      <th>min</th>\n",
       "      <td>0.000000e+00</td>\n",
       "    </tr>\n",
       "    <tr>\n",
       "      <th>25%</th>\n",
       "      <td>9.249019e-01</td>\n",
       "    </tr>\n",
       "    <tr>\n",
       "      <th>50%</th>\n",
       "      <td>1.355683e+00</td>\n",
       "    </tr>\n",
       "    <tr>\n",
       "      <th>75%</th>\n",
       "      <td>2.034981e+00</td>\n",
       "    </tr>\n",
       "    <tr>\n",
       "      <th>max</th>\n",
       "      <td>5.225473e+01</td>\n",
       "    </tr>\n",
       "  </tbody>\n",
       "</table>\n",
       "</div>"
      ],
      "text/plain": [
       "                  0\n",
       "count  8.951355e+06\n",
       "mean   2.065149e+00\n",
       "std    2.560961e+00\n",
       "min    0.000000e+00\n",
       "25%    9.249019e-01\n",
       "50%    1.355683e+00\n",
       "75%    2.034981e+00\n",
       "max    5.225473e+01"
      ]
     },
     "execution_count": 53,
     "metadata": {},
     "output_type": "execute_result"
    }
   ],
   "source": [
    "dts.describe()"
   ]
  },
  {
   "cell_type": "code",
   "execution_count": 55,
   "id": "382d7fe0",
   "metadata": {},
   "outputs": [
    {
     "data": {
      "text/html": [
       "<div>\n",
       "<style scoped>\n",
       "    .dataframe tbody tr th:only-of-type {\n",
       "        vertical-align: middle;\n",
       "    }\n",
       "\n",
       "    .dataframe tbody tr th {\n",
       "        vertical-align: top;\n",
       "    }\n",
       "\n",
       "    .dataframe thead th {\n",
       "        text-align: right;\n",
       "    }\n",
       "</style>\n",
       "<table border=\"1\" class=\"dataframe\">\n",
       "  <thead>\n",
       "    <tr style=\"text-align: right;\">\n",
       "      <th></th>\n",
       "      <th>0</th>\n",
       "    </tr>\n",
       "  </thead>\n",
       "  <tbody>\n",
       "    <tr>\n",
       "      <th>5751190</th>\n",
       "      <td>0.0</td>\n",
       "    </tr>\n",
       "    <tr>\n",
       "      <th>5751191</th>\n",
       "      <td>0.0</td>\n",
       "    </tr>\n",
       "  </tbody>\n",
       "</table>\n",
       "</div>"
      ],
      "text/plain": [
       "           0\n",
       "5751190  0.0\n",
       "5751191  0.0"
      ]
     },
     "execution_count": 55,
     "metadata": {},
     "output_type": "execute_result"
    }
   ],
   "source": [
    "dts[dts[0] == 0]"
   ]
  },
  {
   "cell_type": "code",
   "execution_count": null,
   "id": "c0c876d1",
   "metadata": {},
   "outputs": [],
   "source": [
    "lex_lm_array = []\n",
    "\n",
    "for val in id_array:\n",
    "    \n",
    "    lex_lm_array.append(aui_vecs[val])\n",
    "\n",
    "lex_lm_array = np.array(lex_lm_array)"
   ]
  },
  {
   "cell_type": "code",
   "execution_count": null,
   "id": "5bed31f3",
   "metadata": {},
   "outputs": [],
   "source": [
    "query_lex_lm_array = []\n",
    "\n",
    "for val in query_id_array:\n",
    "    \n",
    "    query_lex_lm_array.append(aui_vecs[val])\n",
    "\n",
    "query_lex_lm_array = np.array(query_lex_lm_array)"
   ]
  },
  {
   "cell_type": "code",
   "execution_count": null,
   "id": "b5a78aba",
   "metadata": {},
   "outputs": [],
   "source": [
    "# import pickle\n",
    "# import pandas as pd\n",
    "# from tqdm import tqdm\n",
    "# import numpy as np\n",
    "\n",
    "# d = 50                           # dimension\n",
    "# nb = 8521220                      # database size\n",
    "# nq = 430000                     # nb of queries\n",
    "# np.random.seed(1234)             # make reproducible\n",
    "# lex_lm_array = np.random.random((nb, d)).astype('float32')\n",
    "# query_lex_lm_array = np.random.random((nq, d)).astype('float32')"
   ]
  },
  {
   "cell_type": "code",
   "execution_count": null,
   "id": "48e0861b",
   "metadata": {},
   "outputs": [],
   "source": [
    "len(lex_lm_array), len(query_lex_lm_array)"
   ]
  },
  {
   "cell_type": "code",
   "execution_count": null,
   "id": "318d37c6",
   "metadata": {},
   "outputs": [],
   "source": []
  },
  {
   "cell_type": "code",
   "execution_count": null,
   "id": "adc9711d",
   "metadata": {},
   "outputs": [],
   "source": [
    "import faiss\n",
    "print(faiss.get_num_gpus())\n",
    "\n",
    "index = faiss.IndexFlatL2(50)   # build the index\n",
    "# make it into a gpu index\n",
    "res = faiss.StandardGpuResources()\n",
    "index = faiss.index_cpu_to_gpu(res, 0, index)\n",
    "\n",
    "print(index.is_trained)\n",
    "index.add(lex_lm_array)\n",
    "print(index.ntotal)"
   ]
  },
  {
   "cell_type": "code",
   "execution_count": null,
   "id": "a84dc7f3",
   "metadata": {},
   "outputs": [],
   "source": [
    "k = 4                          # we want to see 4 nearest neighbors\n",
    "D, I = index.search(lex_lm_array[35:40], k) # sanity check\n",
    "print(I)\n",
    "print(D)"
   ]
  },
  {
   "cell_type": "code",
   "execution_count": null,
   "id": "1454c747",
   "metadata": {},
   "outputs": [],
   "source": [
    "chunks = np.array_split(query_lex_lm_array,1000)"
   ]
  },
  {
   "cell_type": "code",
   "execution_count": null,
   "id": "3606b8f7",
   "metadata": {},
   "outputs": [],
   "source": [
    "k = 400             #we want to see 4 nearest neighbors\n",
    "\n",
    "D, I = [],[]\n",
    "\n",
    "for q in tqdm(chunks):\n",
    "    d,i = index.search(q, k)\n",
    "    \n",
    "    D.append(d)\n",
    "    I.append(i)"
   ]
  },
  {
   "cell_type": "code",
   "execution_count": null,
   "id": "8c43b065",
   "metadata": {},
   "outputs": [],
   "source": []
  },
  {
   "cell_type": "code",
   "execution_count": null,
   "id": "493972cc",
   "metadata": {},
   "outputs": [],
   "source": [
    "len(chunks[0])"
   ]
  },
  {
   "cell_type": "code",
   "execution_count": null,
   "id": "35632d47",
   "metadata": {},
   "outputs": [],
   "source": [
    "k=2000"
   ]
  },
  {
   "cell_type": "code",
   "execution_count": null,
   "id": "f8484346",
   "metadata": {},
   "outputs": [],
   "source": [
    "# pickle.dump((I,D),open('/data/jimenezgutierb2/{}-NN.p'.format(str(k)),'wb'))"
   ]
  },
  {
   "cell_type": "code",
   "execution_count": null,
   "id": "e2a5ed0a",
   "metadata": {},
   "outputs": [],
   "source": [
    "I, D = pickle.load(open('/data/jimenezgutierb2/{}-NN.p'.format(str(k)),'rb'))"
   ]
  },
  {
   "cell_type": "code",
   "execution_count": null,
   "id": "a45f6f1f",
   "metadata": {},
   "outputs": [],
   "source": [
    "nearest_neighbors = np.vstack(I)\n",
    "nn_dist = np.vstack(D)"
   ]
  },
  {
   "cell_type": "code",
   "execution_count": null,
   "id": "73692523",
   "metadata": {},
   "outputs": [],
   "source": [
    "nearest_neighbors.shape"
   ]
  },
  {
   "cell_type": "code",
   "execution_count": null,
   "id": "a0d79388",
   "metadata": {},
   "outputs": [],
   "source": [
    "nearest_neighbors[0].shape"
   ]
  },
  {
   "cell_type": "code",
   "execution_count": null,
   "id": "bfbd01f3",
   "metadata": {},
   "outputs": [],
   "source": [
    "nearest_neighbors"
   ]
  },
  {
   "cell_type": "code",
   "execution_count": null,
   "id": "bcdad888",
   "metadata": {},
   "outputs": [],
   "source": [
    "nn_dist.shape"
   ]
  },
  {
   "cell_type": "code",
   "execution_count": null,
   "id": "35fe67af",
   "metadata": {},
   "outputs": [],
   "source": [
    "nearest_neighbors_auis = []\n",
    "\n",
    "for nn in tqdm(nearest_neighbors):\n",
    "    nn_auis = [id2aui[indices2id[index]] for index in nn]\n",
    "    \n",
    "    nearest_neighbors_auis.append(nn_auis)"
   ]
  },
  {
   "cell_type": "code",
   "execution_count": null,
   "id": "e074bbb6",
   "metadata": {},
   "outputs": [],
   "source": [
    "pickle.dump(nn_dist,open('/data/Bodenreider_UMLS_DL/Interns/Bernal/lex_lm_2000-NN_dist.p','wb'))"
   ]
  },
  {
   "cell_type": "code",
   "execution_count": null,
   "id": "0ab26730",
   "metadata": {},
   "outputs": [],
   "source": [
    "pickle.dump(nearest_neighbors_auis,open('/data/Bodenreider_UMLS_DL/Interns/Bernal/lex_lm_2000-NN.p','wb'))"
   ]
  },
  {
   "cell_type": "code",
   "execution_count": null,
   "id": "d518961c",
   "metadata": {},
   "outputs": [],
   "source": [
    "query_synonym_ids = []\n",
    "\n",
    "for ide in query_id_array:\n",
    "    \n",
    "    aui = id2aui[ide]\n",
    "    synonym_auis = new_synonym_dict[aui]\n",
    "    \n",
    "    synonym_ids = []\n",
    "    for syn_aui in synonym_auis:\n",
    "        ide = aui2id[syn_aui]\n",
    "        \n",
    "        if ide in id2indices:\n",
    "            synonym_ids.append(id2indices[ide])\n",
    "    \n",
    "    query_synonym_ids.append(synonym_ids)"
   ]
  },
  {
   "cell_type": "code",
   "execution_count": null,
   "id": "942f1bb6",
   "metadata": {},
   "outputs": [],
   "source": [
    "#Calculating Recall @ 1,5,10,50,100\n",
    "recall_array = []\n",
    "closest_dist_true = []\n",
    "closest_dist_false = []\n",
    "\n",
    "for true_syn, top100, top100_dist in tqdm(zip(query_synonym_ids, nearest_neighbors, nn_dist)):\n",
    "    \n",
    "    true_syn = set(true_syn)\n",
    "    \n",
    "    if len(true_syn) > 0:\n",
    "        recalls = []\n",
    "\n",
    "        for n in [1,5,10,50,100,500,1000,2000]:\n",
    "\n",
    "            topn = set(top100[:n])\n",
    "            true_pos = topn.intersection(true_syn)\n",
    "\n",
    "            recalls.append(len(true_pos)/len(true_syn))\n",
    "         \n",
    "        recall_array.append(recalls)\n",
    "        closest_dist_true.append([top100_dist[0], np.mean(top100_dist)])\n",
    "    else:\n",
    "        closest_dist_false.append([top100_dist[0], np.mean(top100_dist)])"
   ]
  },
  {
   "cell_type": "code",
   "execution_count": null,
   "id": "05bb1761",
   "metadata": {},
   "outputs": [],
   "source": [
    "len(recall_array)"
   ]
  },
  {
   "cell_type": "code",
   "execution_count": null,
   "id": "e298d13f",
   "metadata": {},
   "outputs": [],
   "source": [
    "np.stack(recall_array).mean(axis=0)"
   ]
  },
  {
   "cell_type": "code",
   "execution_count": null,
   "id": "96e68e9e",
   "metadata": {},
   "outputs": [],
   "source": [
    "np.mean(closest_dist_true,axis=0)"
   ]
  },
  {
   "cell_type": "code",
   "execution_count": null,
   "id": "6f63ac61",
   "metadata": {},
   "outputs": [],
   "source": [
    "np.mean(closest_dist_false,axis=0)"
   ]
  },
  {
   "cell_type": "code",
   "execution_count": null,
   "id": "1f5b02cb",
   "metadata": {},
   "outputs": [],
   "source": []
  },
  {
   "cell_type": "code",
   "execution_count": null,
   "id": "95e84b6e",
   "metadata": {},
   "outputs": [],
   "source": [
    "def same_sg_edge(aui1, aui2):\n",
    "    \n",
    "    cui1 = aui2cui[aui1]\n",
    "    cui2 = aui2cui[aui2]\n",
    "\n",
    "    sg1 = cui2sg[cui1]\n",
    "    sg2 = cui2sg[cui2]\n",
    "    \n",
    "    if sg1 == sg2:\n",
    "        return True\n",
    "    else:\n",
    "        return False\n",
    "\n",
    "inter_sg_fps = []\n",
    "intra_sg_fps = []\n",
    "\n",
    "present = 0\n",
    "total_edges = 0\n",
    "\n",
    "for i, row in tqdm(fps.iterrows()):    \n",
    "    aui1 = row['aui1']\n",
    "    aui2 = row['aui2']\n",
    "    \n",
    "    total_edges += 1\n",
    "    \n",
    "    if aui1 in aui2cui and aui2 in aui2cui:\n",
    "        \n",
    "        if same_sg_edge(aui1, aui2):\n",
    "            intra_sg_fps.append(row)\n",
    "        else:\n",
    "            inter_sg_fps.append(row)\n",
    "            \n",
    "        present += 1"
   ]
  },
  {
   "cell_type": "code",
   "execution_count": null,
   "id": "afaf7e79",
   "metadata": {},
   "outputs": [],
   "source": [
    "len(inter_sg_fps)"
   ]
  },
  {
   "cell_type": "code",
   "execution_count": null,
   "id": "e6e7f22c",
   "metadata": {},
   "outputs": [],
   "source": [
    "len(intra_sg_fps)"
   ]
  },
  {
   "cell_type": "code",
   "execution_count": null,
   "id": "4bc01a8c",
   "metadata": {},
   "outputs": [],
   "source": [
    "aui2cui['A24114892']"
   ]
  },
  {
   "cell_type": "code",
   "execution_count": null,
   "id": "9730ff2b",
   "metadata": {},
   "outputs": [],
   "source": []
  }
 ],
 "metadata": {
  "kernelspec": {
   "display_name": "Python 3 (ipykernel)",
   "language": "python",
   "name": "python3"
  },
  "language_info": {
   "codemirror_mode": {
    "name": "ipython",
    "version": 3
   },
   "file_extension": ".py",
   "mimetype": "text/x-python",
   "name": "python",
   "nbconvert_exporter": "python",
   "pygments_lexer": "ipython3",
   "version": "3.7.12"
  }
 },
 "nbformat": 4,
 "nbformat_minor": 5
}
