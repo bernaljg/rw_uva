{
 "cells": [
  {
   "cell_type": "code",
   "execution_count": 2,
   "id": "7a9247d4",
   "metadata": {},
   "outputs": [],
   "source": [
    "import pickle\n",
    "import numpy as np\n",
    "import pandas as pd\n",
    "import os\n",
    "from tqdm import tqdm\n",
    "import copy\n",
    "import faiss\n",
    "import gc\n",
    "import subprocess"
   ]
  },
  {
   "cell_type": "code",
   "execution_count": 12,
   "id": "af090ec7",
   "metadata": {},
   "outputs": [
    {
     "name": "stdout",
     "output_type": "stream",
     "text": [
      "Loading Strings\n"
     ]
    }
   ],
   "source": [
    "print('Loading Strings')\n",
    "\n",
    "sorted_umls_df = pd.read_csv('/data/Bodenreider_UMLS_DL/Interns/Bernal/sorted_umls2020_auis.csv',sep='\\t',index_col=0)\n",
    "sorted_umls_df = sorted_umls_df.sort_values('0',ascending=False)"
   ]
  },
  {
   "cell_type": "code",
   "execution_count": 13,
   "id": "df66a80a",
   "metadata": {},
   "outputs": [],
   "source": [
    "original_umls_2020, new_umls_2020 = pickle.load(open('aui_string_map_UMLS2020_update.p','rb'))\n",
    "\n",
    "original_auis = set([x[0] for x in original_umls_2020])"
   ]
  },
  {
   "cell_type": "code",
   "execution_count": 14,
   "id": "2e894687",
   "metadata": {},
   "outputs": [],
   "source": [
    "synonym_dict = pickle.load(open('new_umls_synonym_aui_dict.p','rb'))"
   ]
  },
  {
   "cell_type": "code",
   "execution_count": 15,
   "id": "e8158fd8",
   "metadata": {},
   "outputs": [
    {
     "name": "stderr",
     "output_type": "stream",
     "text": [
      "100%|████████████████████████████████████████████████████████████████████████████████████| 8951355/8951355 [00:15<00:00, 564409.76it/s]\n"
     ]
    }
   ],
   "source": [
    "new = []\n",
    "synonym_list = []\n",
    "\n",
    "for aui in tqdm(sorted_umls_df.auis):\n",
    "    \n",
    "    if aui in original_auis:\n",
    "        new.append(False)\n",
    "        synonym_list.append(None)\n",
    "    else:\n",
    "        new.append(True)\n",
    "        synonyms = synonym_dict[aui]\n",
    "        new_synonyms = []\n",
    "        \n",
    "        for aui in synonyms:\n",
    "            if aui in original_auis:\n",
    "                new_synonyms.append(aui)\n",
    "                \n",
    "        synonym_list.append(new_synonyms)"
   ]
  },
  {
   "cell_type": "code",
   "execution_count": 16,
   "id": "6256ca51",
   "metadata": {},
   "outputs": [],
   "source": [
    "sorted_umls_df['2020AB?'] = new\n",
    "sorted_umls_df['2020AA_synonyms'] = synonym_list"
   ]
  },
  {
   "cell_type": "code",
   "execution_count": 17,
   "id": "3b1700b5",
   "metadata": {},
   "outputs": [
    {
     "data": {
      "text/html": [
       "<div>\n",
       "<style scoped>\n",
       "    .dataframe tbody tr th:only-of-type {\n",
       "        vertical-align: middle;\n",
       "    }\n",
       "\n",
       "    .dataframe tbody tr th {\n",
       "        vertical-align: top;\n",
       "    }\n",
       "\n",
       "    .dataframe thead th {\n",
       "        text-align: right;\n",
       "    }\n",
       "</style>\n",
       "<table border=\"1\" class=\"dataframe\">\n",
       "  <thead>\n",
       "    <tr style=\"text-align: right;\">\n",
       "      <th></th>\n",
       "      <th>0</th>\n",
       "      <th>strings</th>\n",
       "      <th>auis</th>\n",
       "      <th>2020AA_synonyms</th>\n",
       "    </tr>\n",
       "    <tr>\n",
       "      <th>2020AB?</th>\n",
       "      <th></th>\n",
       "      <th></th>\n",
       "      <th></th>\n",
       "      <th></th>\n",
       "    </tr>\n",
       "  </thead>\n",
       "  <tbody>\n",
       "    <tr>\n",
       "      <th>False</th>\n",
       "      <td>8521220</td>\n",
       "      <td>8521200</td>\n",
       "      <td>8521220</td>\n",
       "      <td>0</td>\n",
       "    </tr>\n",
       "    <tr>\n",
       "      <th>True</th>\n",
       "      <td>430135</td>\n",
       "      <td>430133</td>\n",
       "      <td>430135</td>\n",
       "      <td>430135</td>\n",
       "    </tr>\n",
       "  </tbody>\n",
       "</table>\n",
       "</div>"
      ],
      "text/plain": [
       "               0  strings     auis  2020AA_synonyms\n",
       "2020AB?                                            \n",
       "False    8521220  8521200  8521220                0\n",
       "True      430135   430133   430135           430135"
      ]
     },
     "execution_count": 17,
     "metadata": {},
     "output_type": "execute_result"
    }
   ],
   "source": [
    "sorted_umls_df.groupby('2020AB?').count()"
   ]
  },
  {
   "cell_type": "code",
   "execution_count": 1,
   "id": "dbc54a25",
   "metadata": {},
   "outputs": [],
   "source": [
    "model_name = 'sapbert'\n",
    "vectors_name = '{}_vecs'.format(model_name)"
   ]
  },
  {
   "cell_type": "code",
   "execution_count": 3,
   "id": "7fb729fb",
   "metadata": {},
   "outputs": [],
   "source": [
    "vecs = []\n",
    "for i in range(167):\n",
    "    vecs.append(pickle.load(open('/data/Bodenreider_UMLS_DL/Interns/Bernal/{}/umls2020_{}_{}.p'.format(vectors_name, vectors_name, i),'rb')))\n",
    "    \n",
    "vecs = np.vstack(vecs)"
   ]
  },
  {
   "cell_type": "code",
   "execution_count": 20,
   "id": "b2a0bb10",
   "metadata": {},
   "outputs": [],
   "source": [
    "sorted_umls_df[vectors_name] = list(vecs)"
   ]
  },
  {
   "cell_type": "code",
   "execution_count": 21,
   "id": "92a0d7fb",
   "metadata": {},
   "outputs": [],
   "source": [
    "umls2020AA_df = sorted_umls_df[sorted_umls_df['2020AB?'] == False][['0','strings','auis']]\n",
    "umls2020AA_vecs = sorted_umls_df[sorted_umls_df['2020AB?'] == False][vectors_name]\n",
    "umls2020AA_vecs = np.vstack(umls2020AA_vecs)"
   ]
  },
  {
   "cell_type": "code",
   "execution_count": 22,
   "id": "61a78b45",
   "metadata": {},
   "outputs": [],
   "source": [
    "umls2020AB_df = sorted_umls_df[sorted_umls_df['2020AB?']][['0','strings','auis','2020AA_synonyms']]\n",
    "umls2020AB_vecs = sorted_umls_df[sorted_umls_df['2020AB?']][vectors_name]\n",
    "umls2020AB_vecs = np.vstack(umls2020AB_vecs)"
   ]
  },
  {
   "cell_type": "code",
   "execution_count": 27,
   "id": "f8d023bd",
   "metadata": {},
   "outputs": [],
   "source": [
    "umls2020AA_df = umls2020AA_df.reset_index(drop=True)\n",
    "umls2020AB_df = umls2020AB_df.reset_index(drop=True)"
   ]
  },
  {
   "cell_type": "code",
   "execution_count": 28,
   "id": "6c09159d",
   "metadata": {},
   "outputs": [
    {
     "data": {
      "text/html": [
       "<div>\n",
       "<style scoped>\n",
       "    .dataframe tbody tr th:only-of-type {\n",
       "        vertical-align: middle;\n",
       "    }\n",
       "\n",
       "    .dataframe tbody tr th {\n",
       "        vertical-align: top;\n",
       "    }\n",
       "\n",
       "    .dataframe thead th {\n",
       "        text-align: right;\n",
       "    }\n",
       "</style>\n",
       "<table border=\"1\" class=\"dataframe\">\n",
       "  <thead>\n",
       "    <tr style=\"text-align: right;\">\n",
       "      <th></th>\n",
       "      <th>0</th>\n",
       "      <th>strings</th>\n",
       "      <th>auis</th>\n",
       "    </tr>\n",
       "  </thead>\n",
       "  <tbody>\n",
       "    <tr>\n",
       "      <th>8130780</th>\n",
       "      <td>4</td>\n",
       "      <td>Protocol Event</td>\n",
       "      <td>A16762855</td>\n",
       "    </tr>\n",
       "  </tbody>\n",
       "</table>\n",
       "</div>"
      ],
      "text/plain": [
       "         0         strings       auis\n",
       "8130780  4  Protocol Event  A16762855"
      ]
     },
     "execution_count": 28,
     "metadata": {},
     "output_type": "execute_result"
    }
   ],
   "source": [
    "umls2020AA_df[umls2020AA_df['auis'] == 'A16762855']"
   ]
  },
  {
   "cell_type": "code",
   "execution_count": 29,
   "id": "de6d39e9",
   "metadata": {},
   "outputs": [
    {
     "data": {
      "text/html": [
       "<div>\n",
       "<style scoped>\n",
       "    .dataframe tbody tr th:only-of-type {\n",
       "        vertical-align: middle;\n",
       "    }\n",
       "\n",
       "    .dataframe tbody tr th {\n",
       "        vertical-align: top;\n",
       "    }\n",
       "\n",
       "    .dataframe thead th {\n",
       "        text-align: right;\n",
       "    }\n",
       "</style>\n",
       "<table border=\"1\" class=\"dataframe\">\n",
       "  <thead>\n",
       "    <tr style=\"text-align: right;\">\n",
       "      <th></th>\n",
       "      <th>0</th>\n",
       "      <th>strings</th>\n",
       "      <th>auis</th>\n",
       "      <th>2020AA_synonyms</th>\n",
       "    </tr>\n",
       "  </thead>\n",
       "  <tbody>\n",
       "    <tr>\n",
       "      <th>428419</th>\n",
       "      <td>3</td>\n",
       "      <td>event</td>\n",
       "      <td>A31599915</td>\n",
       "      <td>[A16762855]</td>\n",
       "    </tr>\n",
       "  </tbody>\n",
       "</table>\n",
       "</div>"
      ],
      "text/plain": [
       "        0 strings       auis 2020AA_synonyms\n",
       "428419  3   event  A31599915     [A16762855]"
      ]
     },
     "execution_count": 29,
     "metadata": {},
     "output_type": "execute_result"
    }
   ],
   "source": [
    "umls2020AB_df[umls2020AB_df['auis'] == 'A31599915']"
   ]
  },
  {
   "cell_type": "code",
   "execution_count": 31,
   "id": "57fd0fe2",
   "metadata": {},
   "outputs": [
    {
     "data": {
      "text/plain": [
       "176.92184"
      ]
     },
     "execution_count": 31,
     "metadata": {},
     "output_type": "execute_result"
    }
   ],
   "source": [
    "np.dot(umls2020AA_vecs[8130780],umls2020AB_vecs[428419])"
   ]
  },
  {
   "cell_type": "code",
   "execution_count": null,
   "id": "fe49cff8",
   "metadata": {},
   "outputs": [],
   "source": [
    "dim = len(vecs[0])\n",
    "index_split = 3\n",
    "index_chunks = np.array_split(umls2020AA_vecs,index_split)\n",
    "query_chunks = np.array_split(umls2020AB_vecs,100)\n",
    "\n",
    "k = 2000\n",
    "\n",
    "index_chunk_D = []\n",
    "index_chunk_I = []\n",
    "\n",
    "current_zero_index = 0\n",
    "\n",
    "for index_chunk in index_chunks:\n",
    "    \n",
    "    index = faiss.IndexFlatL2(dim)   # build the index\n",
    "        \n",
    "    if faiss.get_num_gpus() > 1:\n",
    "        gpu_resources = []\n",
    "\n",
    "        for i in range(faiss.get_num_gpus()):\n",
    "            res = faiss.StandardGpuResources()\n",
    "            gpu_resources.append(res)\n",
    "\n",
    "        gpu_index = faiss.index_cpu_to_gpu_multiple_py(gpu_resources, index)\n",
    "    else:\n",
    "        gpu_resources = faiss.StandardGpuResources()\n",
    "        gpu_index = faiss.index_cpu_to_gpu(gpu_resources, 0, index)\n",
    "    \n",
    "    print(gpu_index.ntotal)\n",
    "    gpu_index.add(index_chunk)\n",
    "\n",
    "    D, I = [],[]\n",
    "\n",
    "    for q in tqdm(query_chunks):\n",
    "        d,i = gpu_index.search(q, k)\n",
    "\n",
    "        i += current_zero_index\n",
    "        \n",
    "        D.append(d)\n",
    "        I.append(i)\n",
    "        \n",
    "    index_chunk_D.append(D)\n",
    "    index_chunk_I.append(I)\n",
    "    \n",
    "    current_zero_index += len(index_chunk)\n",
    "    \n",
    "    print(subprocess.check_output(['nvidia-smi']))\n",
    "\n",
    "    del gpu_index\n",
    "    del gpu_resources\n",
    "    gc.collect()"
   ]
  },
  {
   "cell_type": "code",
   "execution_count": null,
   "id": "bb00cc57",
   "metadata": {},
   "outputs": [],
   "source": [
    "stacked_D = []\n",
    "stacked_I = []\n",
    "\n",
    "for D,I in zip(index_chunk_D, index_chunk_I):\n",
    "    \n",
    "    D = np.vstack(D)\n",
    "    I = np.vstack(I)\n",
    "    \n",
    "    stacked_D.append(D)\n",
    "    stacked_I.append(I)"
   ]
  },
  {
   "cell_type": "code",
   "execution_count": null,
   "id": "5d6cd619",
   "metadata": {},
   "outputs": [],
   "source": [
    "stacked_D = np.hstack(stacked_D)\n",
    "stacked_I = np.hstack(stacked_I)"
   ]
  },
  {
   "cell_type": "code",
   "execution_count": null,
   "id": "ab8072d9",
   "metadata": {},
   "outputs": [],
   "source": [
    "full_sort_I = []\n",
    "full_sort_D = []\n",
    "\n",
    "for d, i in tqdm(zip(stacked_D, stacked_I)):\n",
    "    \n",
    "    sort_indices = np.argsort(d)\n",
    "    \n",
    "    i = i[sort_indices][:k]\n",
    "    d = d[sort_indices][:k]\n",
    "    \n",
    "    full_sort_I.append(i)\n",
    "    full_sort_D.append(d)"
   ]
  },
  {
   "cell_type": "code",
   "execution_count": null,
   "id": "46e9000a",
   "metadata": {},
   "outputs": [],
   "source": [
    "umls_2020AA_auis = list(umls2020AA_df.auis)"
   ]
  },
  {
   "cell_type": "code",
   "execution_count": null,
   "id": "085443d1",
   "metadata": {},
   "outputs": [],
   "source": [
    "nearest_neighbors_auis = []\n",
    "\n",
    "for nn_inds in tqdm(full_sort_I):\n",
    "    \n",
    "    nn_auis = [umls_2020AA_auis[i] for i in nn_inds]\n",
    "    \n",
    "    nearest_neighbors_auis.append(nn_auis)"
   ]
  },
  {
   "cell_type": "code",
   "execution_count": null,
   "id": "40d3b10e",
   "metadata": {},
   "outputs": [],
   "source": [
    "query_synonym_auis = list(umls2020AB_df['2020AA_synonyms'])"
   ]
  },
  {
   "cell_type": "code",
   "execution_count": null,
   "id": "ff9e0e74",
   "metadata": {},
   "outputs": [],
   "source": [
    "#Calculating Recall @ 1,5,10,50,100\n",
    "recall_array = []\n",
    "closest_dist_true = []\n",
    "closest_dist_false = []\n",
    "\n",
    "for true_syn, top100, top100_dist in tqdm(zip(query_synonym_auis, nearest_neighbors_auis, full_sort_D)):\n",
    "    \n",
    "    true_syn = set(true_syn)\n",
    "    \n",
    "    if len(true_syn) > 0:\n",
    "        recalls = []\n",
    "\n",
    "        for n in [1,5,10,50,100,200,500,1000,2000]:\n",
    "\n",
    "            topn = set(top100[:n])\n",
    "            true_pos = topn.intersection(true_syn)\n",
    "\n",
    "            recalls.append(len(true_pos)/len(true_syn))\n",
    "\n",
    "        recall_array.append(recalls)\n",
    "        closest_dist_true.append([top100_dist[0], np.mean(top100_dist)])\n",
    "    else:\n",
    "        recalls = []\n",
    "\n",
    "        recall_array.append(recalls)\n",
    "        closest_dist_false.append([top100_dist[0], np.mean(top100_dist)])"
   ]
  },
  {
   "cell_type": "code",
   "execution_count": null,
   "id": "250b2c81",
   "metadata": {},
   "outputs": [],
   "source": [
    "umls2020AA_aui2str = {}\n",
    "\n",
    "for aui, string in tqdm(zip(umls2020AA_df.auis, umls2020AA_df.strings)):\n",
    "    umls2020AA_aui2str[aui] = string"
   ]
  },
  {
   "cell_type": "code",
   "execution_count": null,
   "id": "6e6a85fd",
   "metadata": {},
   "outputs": [],
   "source": [
    "nearest_neighbors_strings = []\n",
    "\n",
    "for nn_auis in tqdm(nearest_neighbors_auis):\n",
    "    nn_strings = [umls2020AA_aui2str[aui] for aui in nn_auis]\n",
    "    \n",
    "    nearest_neighbors_strings.append(nn_strings)"
   ]
  },
  {
   "cell_type": "code",
   "execution_count": null,
   "id": "e3ac68d5",
   "metadata": {},
   "outputs": [],
   "source": [
    "synonym_strings = []\n",
    "\n",
    "for syn_auis in tqdm(umls2020AB_df['2020AA_synonyms']):\n",
    "    syn_strings = [umls2020AA_aui2str[aui] for aui in syn_auis]\n",
    "    \n",
    "    synonym_strings.append(syn_strings)"
   ]
  },
  {
   "cell_type": "code",
   "execution_count": null,
   "id": "fd64ce89",
   "metadata": {},
   "outputs": [],
   "source": [
    "umls2020AB_df['synonym_strings'] = synonym_strings"
   ]
  },
  {
   "cell_type": "code",
   "execution_count": null,
   "id": "02f36c48",
   "metadata": {},
   "outputs": [],
   "source": [
    "umls2020AB_df['num_syms'] = [len(s) for s in umls2020AB_df['2020AA_synonyms']]"
   ]
  },
  {
   "cell_type": "code",
   "execution_count": null,
   "id": "9497bec8",
   "metadata": {},
   "outputs": [],
   "source": [
    "umls2020AB_df['{}_{}-NN_strings'.format(model_name, k)] = nearest_neighbors_strings\n",
    "umls2020AB_df['{}_{}-NN_auis'.format(model_name, k)] = nearest_neighbors_auis\n",
    "umls2020AB_df['{}_{}-NN_dist'.format(model_name, k)] = list(full_sort_D)"
   ]
  },
  {
   "cell_type": "code",
   "execution_count": null,
   "id": "69dd2ebb",
   "metadata": {},
   "outputs": [],
   "source": [
    "umls2020AB_df['{}_{}-NN_recall'.format(model_name, k)] = recall_array"
   ]
  },
  {
   "cell_type": "code",
   "execution_count": null,
   "id": "6eac2a90",
   "metadata": {},
   "outputs": [],
   "source": [
    "pickle.dump(umls2020AB_df, open('/data/Bodenreider_UMLS_DL/Interns/Bernal/UMLS2020AB_{}.{}-NN_DataFrame.p'.format(model_name, k),'wb'))"
   ]
  }
 ],
 "metadata": {
  "kernelspec": {
   "display_name": "Python 3 (ipykernel)",
   "language": "python",
   "name": "python3"
  },
  "language_info": {
   "codemirror_mode": {
    "name": "ipython",
    "version": 3
   },
   "file_extension": ".py",
   "mimetype": "text/x-python",
   "name": "python",
   "nbconvert_exporter": "python",
   "pygments_lexer": "ipython3",
   "version": "3.7.12"
  }
 },
 "nbformat": 4,
 "nbformat_minor": 5
}
