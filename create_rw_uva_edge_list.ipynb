{
 "cells": [
  {
   "cell_type": "code",
   "execution_count": 1,
   "id": "30098a3e",
   "metadata": {},
   "outputs": [],
   "source": [
    "import _pickle as pickle\n",
    "import numpy as np\n",
    "import pandas as pd\n",
    "import os\n",
    "from tqdm import tqdm\n",
    "import copy\n",
    "import glob\n",
    "import gc"
   ]
  },
  {
   "cell_type": "code",
   "execution_count": 2,
   "id": "1a571458",
   "metadata": {},
   "outputs": [
    {
     "name": "stdout",
     "output_type": "stream",
     "text": [
      "['/data/Bodenreider_UMLS_DL/Interns/Bernal/UMLS2020AB_sapbert.2000-NN_DataFrame.p']\n"
     ]
    },
    {
     "name": "stderr",
     "output_type": "stream",
     "text": [
      "100%|████████████████████████████████████████████████████████████████████████████████████████████████████████████████████████████████████████████████████████████████████████████████████████████████████████████████████████████████████████████| 1/1 [11:48<00:00, 708.62s/it]\n"
     ]
    }
   ],
   "source": [
    "full_df = []\n",
    "\n",
    "exp_list = glob.glob('/data/Bodenreider_UMLS_DL/Interns/Bernal/UMLS2020AB_sapbert.2000-NN_DataFrame.p')\n",
    "\n",
    "print(exp_list)\n",
    "\n",
    "for filename in tqdm(exp_list):\n",
    "    file = open(filename,'rb')\n",
    "    full_df.append(pickle.load(file))\n",
    "    file.close()"
   ]
  },
  {
   "cell_type": "code",
   "execution_count": 3,
   "id": "b6da6dcb",
   "metadata": {},
   "outputs": [],
   "source": [
    "umls2020AB_df = full_df[0]"
   ]
  },
  {
   "cell_type": "code",
   "execution_count": 4,
   "id": "4b9aa1b3",
   "metadata": {},
   "outputs": [
    {
     "data": {
      "text/html": [
       "<div>\n",
       "<style scoped>\n",
       "    .dataframe tbody tr th:only-of-type {\n",
       "        vertical-align: middle;\n",
       "    }\n",
       "\n",
       "    .dataframe tbody tr th {\n",
       "        vertical-align: top;\n",
       "    }\n",
       "\n",
       "    .dataframe thead th {\n",
       "        text-align: right;\n",
       "    }\n",
       "</style>\n",
       "<table border=\"1\" class=\"dataframe\">\n",
       "  <thead>\n",
       "    <tr style=\"text-align: right;\">\n",
       "      <th></th>\n",
       "      <th>0</th>\n",
       "      <th>num_syms</th>\n",
       "    </tr>\n",
       "  </thead>\n",
       "  <tbody>\n",
       "    <tr>\n",
       "      <th>count</th>\n",
       "      <td>430135.000000</td>\n",
       "      <td>430135.000000</td>\n",
       "    </tr>\n",
       "    <tr>\n",
       "      <th>mean</th>\n",
       "      <td>11.463557</td>\n",
       "      <td>7.497516</td>\n",
       "    </tr>\n",
       "    <tr>\n",
       "      <th>std</th>\n",
       "      <td>9.860294</td>\n",
       "      <td>35.940232</td>\n",
       "    </tr>\n",
       "    <tr>\n",
       "      <th>min</th>\n",
       "      <td>3.000000</td>\n",
       "      <td>0.000000</td>\n",
       "    </tr>\n",
       "    <tr>\n",
       "      <th>25%</th>\n",
       "      <td>7.000000</td>\n",
       "      <td>0.000000</td>\n",
       "    </tr>\n",
       "    <tr>\n",
       "      <th>50%</th>\n",
       "      <td>10.000000</td>\n",
       "      <td>0.000000</td>\n",
       "    </tr>\n",
       "    <tr>\n",
       "      <th>75%</th>\n",
       "      <td>13.000000</td>\n",
       "      <td>4.000000</td>\n",
       "    </tr>\n",
       "    <tr>\n",
       "      <th>max</th>\n",
       "      <td>1104.000000</td>\n",
       "      <td>550.000000</td>\n",
       "    </tr>\n",
       "  </tbody>\n",
       "</table>\n",
       "</div>"
      ],
      "text/plain": [
       "                   0       num_syms\n",
       "count  430135.000000  430135.000000\n",
       "mean       11.463557       7.497516\n",
       "std         9.860294      35.940232\n",
       "min         3.000000       0.000000\n",
       "25%         7.000000       0.000000\n",
       "50%        10.000000       0.000000\n",
       "75%        13.000000       4.000000\n",
       "max      1104.000000     550.000000"
      ]
     },
     "execution_count": 4,
     "metadata": {},
     "output_type": "execute_result"
    }
   ],
   "source": [
    "umls2020AB_df.describe()"
   ]
  },
  {
   "cell_type": "code",
   "execution_count": 10,
   "id": "b63489b6",
   "metadata": {},
   "outputs": [],
   "source": [
    "pd.set_option('max_colwidth',500)"
   ]
  },
  {
   "cell_type": "code",
   "execution_count": 11,
   "id": "93fc0abc",
   "metadata": {},
   "outputs": [
    {
     "data": {
      "text/html": [
       "<div>\n",
       "<style scoped>\n",
       "    .dataframe tbody tr th:only-of-type {\n",
       "        vertical-align: middle;\n",
       "    }\n",
       "\n",
       "    .dataframe tbody tr th {\n",
       "        vertical-align: top;\n",
       "    }\n",
       "\n",
       "    .dataframe thead th {\n",
       "        text-align: right;\n",
       "    }\n",
       "</style>\n",
       "<table border=\"1\" class=\"dataframe\">\n",
       "  <thead>\n",
       "    <tr style=\"text-align: right;\">\n",
       "      <th></th>\n",
       "      <th>0</th>\n",
       "      <th>strings</th>\n",
       "      <th>auis</th>\n",
       "      <th>2020AA_synonyms</th>\n",
       "      <th>synonym_strings</th>\n",
       "      <th>num_syms</th>\n",
       "      <th>sapbert_2000-NN_strings</th>\n",
       "      <th>sapbert_2000-NN_auis</th>\n",
       "      <th>sapbert_2000-NN_dist</th>\n",
       "      <th>sapbert_2000-NN_recall</th>\n",
       "    </tr>\n",
       "  </thead>\n",
       "  <tbody>\n",
       "    <tr>\n",
       "      <th>8538331</th>\n",
       "      <td>10</td>\n",
       "      <td>Dandie Dinmont Terrier</td>\n",
       "      <td>A31599751</td>\n",
       "      <td>[A3013170, A16965279, A10802552, A16966835]</td>\n",
       "      <td>[Dandie dinmont terrier, Dandie Dinmont terrier, Dandie Dinmont Terrier, Dandie Dinmont terrier (organism)]</td>\n",
       "      <td>4</td>\n",
       "      <td>[Dandie Dinmont Terrier, Dandie dinmont terrier, Dandie Dinmont terrier, Dandie Dinmont terrier (organism), Cairn terrier, Cairn Terrier, Soft-coated wheaten terrier, Soft Coated Wheaten Terrier, Kerry blue terrier (organism), Leuciscus dandia, Airedale Terrier, Airedale terrier, Kerry blue terrier, Kerry Blue Terrier, Welsh Terrier, Welsh terrier, Bedlington Terrier, Bedlington terrier, Norfolk terrier, Norfolk Terrier, Cairn terrier (organism), Lakeland terrier, Lakeland Terrier, Airedale ...</td>\n",
       "      <td>[A10802552, A3013170, A16965279, A16966835, A3003023, A10799913, A3072011, A10817400, A3528362, A26734254, A10815951, A2990092, A3036403, A10808683, A10795376, A3083376, A10797631, A2995811, A3049822, A10812519, A3335229, A3037299, A10808946, A3531711, A3586817, A3711569, A3785888, A3805910, A3070871, A10817234, A3001100, A10798248, A3621242, A10795439, A3083757, A3050007, A10812534, A30394316, A3899982, A24407930, A10793776, A3077220, A3531869, A27966991, A17566466, A3326274, A10816961, A30...</td>\n",
       "      <td>[0.0, 0.0, 0.0, 8.009628, 137.91754, 137.91754, 139.01683, 139.13464, 139.8493, 140.57378, 140.86127, 140.86127, 140.87146, 140.87146, 140.96123, 140.96123, 143.03625, 143.03625, 144.10829, 144.10829, 144.1291, 144.19017, 144.19017, 144.70679, 145.59254, 146.11206, 147.30128, 147.38994, 147.58711, 147.58711, 147.90125, 147.90125, 148.6371, 149.38478, 149.38478, 150.11333, 150.11333, 150.48326, 150.9384, 151.37096, 151.67645, 151.67645, 151.95583, 152.5951, 152.66243, 153.59464, 154.25658, 15...</td>\n",
       "      <td>[0.25, 1.0, 1.0, 1.0, 1.0, 1.0, 1.0, 1.0, 1.0]</td>\n",
       "    </tr>\n",
       "  </tbody>\n",
       "</table>\n",
       "</div>"
      ],
      "text/plain": [
       "          0                 strings       auis  \\\n",
       "8538331  10  Dandie Dinmont Terrier  A31599751   \n",
       "\n",
       "                                     2020AA_synonyms  \\\n",
       "8538331  [A3013170, A16965279, A10802552, A16966835]   \n",
       "\n",
       "                                                                                                     synonym_strings  \\\n",
       "8538331  [Dandie dinmont terrier, Dandie Dinmont terrier, Dandie Dinmont Terrier, Dandie Dinmont terrier (organism)]   \n",
       "\n",
       "         num_syms  \\\n",
       "8538331         4   \n",
       "\n",
       "                                                                                                                                                                                                                                                                                                                                                                                                                                                                                                     sapbert_2000-NN_strings  \\\n",
       "8538331  [Dandie Dinmont Terrier, Dandie dinmont terrier, Dandie Dinmont terrier, Dandie Dinmont terrier (organism), Cairn terrier, Cairn Terrier, Soft-coated wheaten terrier, Soft Coated Wheaten Terrier, Kerry blue terrier (organism), Leuciscus dandia, Airedale Terrier, Airedale terrier, Kerry blue terrier, Kerry Blue Terrier, Welsh Terrier, Welsh terrier, Bedlington Terrier, Bedlington terrier, Norfolk terrier, Norfolk Terrier, Cairn terrier (organism), Lakeland terrier, Lakeland Terrier, Airedale ...   \n",
       "\n",
       "                                                                                                                                                                                                                                                                                                                                                                                                                                                                                                        sapbert_2000-NN_auis  \\\n",
       "8538331  [A10802552, A3013170, A16965279, A16966835, A3003023, A10799913, A3072011, A10817400, A3528362, A26734254, A10815951, A2990092, A3036403, A10808683, A10795376, A3083376, A10797631, A2995811, A3049822, A10812519, A3335229, A3037299, A10808946, A3531711, A3586817, A3711569, A3785888, A3805910, A3070871, A10817234, A3001100, A10798248, A3621242, A10795439, A3083757, A3050007, A10812534, A30394316, A3899982, A24407930, A10793776, A3077220, A3531869, A27966991, A17566466, A3326274, A10816961, A30...   \n",
       "\n",
       "                                                                                                                                                                                                                                                                                                                                                                                                                                                                                                        sapbert_2000-NN_dist  \\\n",
       "8538331  [0.0, 0.0, 0.0, 8.009628, 137.91754, 137.91754, 139.01683, 139.13464, 139.8493, 140.57378, 140.86127, 140.86127, 140.87146, 140.87146, 140.96123, 140.96123, 143.03625, 143.03625, 144.10829, 144.10829, 144.1291, 144.19017, 144.19017, 144.70679, 145.59254, 146.11206, 147.30128, 147.38994, 147.58711, 147.58711, 147.90125, 147.90125, 148.6371, 149.38478, 149.38478, 150.11333, 150.11333, 150.48326, 150.9384, 151.37096, 151.67645, 151.67645, 151.95583, 152.5951, 152.66243, 153.59464, 154.25658, 15...   \n",
       "\n",
       "                                 sapbert_2000-NN_recall  \n",
       "8538331  [0.25, 1.0, 1.0, 1.0, 1.0, 1.0, 1.0, 1.0, 1.0]  "
      ]
     },
     "execution_count": 11,
     "metadata": {},
     "output_type": "execute_result"
    }
   ],
   "source": [
    "umls2020AB_df[umls2020AB_df.strings == 'Dandie Dinmont Terrier']"
   ]
  },
  {
   "cell_type": "code",
   "execution_count": 12,
   "id": "544b13c2",
   "metadata": {},
   "outputs": [
    {
     "name": "stderr",
     "output_type": "stream",
     "text": [
      "100%|█████████████████████████████████████████████████████████████████████████████████████████████████████████████████████████████████████████████████████████████████████████████████████████████████████████████████████████████████| 430135/430135 [02:08<00:00, 3337.56it/s]\n"
     ]
    }
   ],
   "source": [
    "#Creating Synonym Edge List\n",
    "\n",
    "edges = []\n",
    "\n",
    "for i,row in tqdm(umls2020AB_df.iterrows(),total=len(umls2020AB_df)):\n",
    "    \n",
    "    string = row['strings']\n",
    "    \n",
    "    synonyms = set(row['synonym_strings'])\n",
    "    predicted_synonyms = row['sapbert_2000-NN_strings'][:200]\n",
    "    predicted_synonym_dist = row['sapbert_2000-NN_dist'][:200]\n",
    "    \n",
    "    processed_preds = set()\n",
    "    \n",
    "    for pred, dist in zip(predicted_synonyms, predicted_synonym_dist):\n",
    "        \n",
    "        if pred not in processed_preds:\n",
    "            if pred in synonyms:\n",
    "                edges.append((string, pred, 1, dist))\n",
    "            else:\n",
    "                edges.append((string, pred, 0, dist))\n",
    "            \n",
    "        processed_preds.add(pred)"
   ]
  },
  {
   "cell_type": "code",
   "execution_count": null,
   "id": "b2f56270",
   "metadata": {},
   "outputs": [],
   "source": [
    "# pickle.dump(edges, open('/data/Bodenreider_UMLS_DL/Interns/Bernal/umls2020AB_sapbert_edges.p','wb'))"
   ]
  },
  {
   "cell_type": "code",
   "execution_count": null,
   "id": "bc681844",
   "metadata": {},
   "outputs": [],
   "source": [
    "edges[-10:]"
   ]
  },
  {
   "cell_type": "code",
   "execution_count": null,
   "id": "82dd6541",
   "metadata": {},
   "outputs": [],
   "source": [
    "testing_data_df = pd.DataFrame(edges)\n",
    "\n",
    "validation_set = []\n",
    "testing_set = []\n",
    "\n",
    "for i,g in testing_data_df.groupby(2):\n",
    "    \n",
    "    perm = g.sample(len(g), random_state=np.random.RandomState(42))\n",
    "    \n",
    "    val = perm[:int(len(g)*0.01)]\n",
    "    test = perm[int(len(g)*0.01):]\n",
    "    \n",
    "    validation_set.append(val)\n",
    "    testing_set.append(test)\n",
    "\n",
    "validation_set = pd.concat(validation_set)\n",
    "testing_set = pd.concat(testing_set)\n",
    "\n",
    "subset = [(h,t,l) for h,t,l in zip(validation_set[0],validation_set[1],validation_set[2])]"
   ]
  },
  {
   "cell_type": "code",
   "execution_count": null,
   "id": "d920b117",
   "metadata": {},
   "outputs": [],
   "source": [
    "len(subset)"
   ]
  },
  {
   "cell_type": "code",
   "execution_count": null,
   "id": "27daf57d",
   "metadata": {},
   "outputs": [],
   "source": [
    "pickle.dump(subset, open('/data/Bodenreider_UMLS_DL/Interns/Bernal/umls2020AB_sapbert_edges_subset.p','wb'))"
   ]
  },
  {
   "cell_type": "code",
   "execution_count": null,
   "id": "c845e440",
   "metadata": {},
   "outputs": [],
   "source": [
    "edges = pickle.load(open('/data/Bodenreider_UMLS_DL/Interns/Bernal/uva_test_subset.p','rb'))"
   ]
  },
  {
   "cell_type": "code",
   "execution_count": null,
   "id": "86bb7440",
   "metadata": {},
   "outputs": [],
   "source": [
    "glob.glob('/data/Bodenreider_UMLS_DL/Interns/Bernal/*predictions')"
   ]
  },
  {
   "cell_type": "code",
   "execution_count": null,
   "id": "dca35ead",
   "metadata": {},
   "outputs": [],
   "source": [
    "pred_filename = '/data/Bodenreider_UMLS_DL/Interns/Bernal/ubert_mlm_uva_test_290020_2_predictions/umls2020_ubert_mlm_uva_test_290020_2_predictions_{}.p'\n",
    "\n",
    "# pred_filename = '/data/Bodenreider_UMLS_DL/Interns/Bernal/sapbert_ubert_uva_test_1392096_predictions/umls2020_sapbert_ubert_uva_test_1392096_predictions_{}.p'\n",
    "\n",
    "preds = []\n",
    "i=0\n",
    "\n",
    "while os.path.exists(pred_filename.format(i)):\n",
    "    f = open(pred_filename.format(i),'rb')\n",
    "    preds.append(pickle.load(f))\n",
    "    i+=1\n",
    "    \n",
    "preds = np.vstack(preds)"
   ]
  },
  {
   "cell_type": "code",
   "execution_count": null,
   "id": "5603b6ad",
   "metadata": {},
   "outputs": [],
   "source": [
    "len(edges),len(preds)/2"
   ]
  },
  {
   "cell_type": "code",
   "execution_count": null,
   "id": "b9ea6b2f",
   "metadata": {},
   "outputs": [],
   "source": [
    "edges_to_test = edges[:int(len(preds)/2)]"
   ]
  },
  {
   "cell_type": "code",
   "execution_count": null,
   "id": "a3837f39",
   "metadata": {},
   "outputs": [],
   "source": [
    "forward_preds = []\n",
    "backward_preds = []\n",
    "\n",
    "for i,p in enumerate(preds):\n",
    "    if i % 2 == 0:\n",
    "        forward_preds.append(p)\n",
    "    else:\n",
    "        backward_preds.append(p)"
   ]
  },
  {
   "cell_type": "code",
   "execution_count": null,
   "id": "67ecc13c",
   "metadata": {},
   "outputs": [],
   "source": [
    "edges_to_test_df = pd.DataFrame(edges_to_test)"
   ]
  },
  {
   "cell_type": "code",
   "execution_count": null,
   "id": "9347a0b9",
   "metadata": {},
   "outputs": [],
   "source": [
    "edges_to_test_df['forward_pred'] = np.argmax(np.vstack(forward_preds),axis=1)\n",
    "edges_to_test_df['backward_pred'] = np.argmax(np.vstack(backward_preds),axis=1)\n",
    "\n",
    "edges_to_test_df['forward_pred'] = [not(e) for e in edges_to_test_df['forward_pred']]\n",
    "edges_to_test_df['backward_pred'] = [not(e) for e in edges_to_test_df['backward_pred']]"
   ]
  },
  {
   "cell_type": "code",
   "execution_count": null,
   "id": "18c81ecd",
   "metadata": {},
   "outputs": [],
   "source": [
    "edges_to_test_df['forward_pred'] = np.argmax(np.vstack(forward_preds),axis=1)\n",
    "edges_to_test_df['backward_pred'] = np.argmax(np.vstack(backward_preds),axis=1)"
   ]
  },
  {
   "cell_type": "code",
   "execution_count": null,
   "id": "390a28a7",
   "metadata": {},
   "outputs": [],
   "source": [
    "pd.set_option('max_colwidth',100)"
   ]
  },
  {
   "cell_type": "code",
   "execution_count": null,
   "id": "b919568b",
   "metadata": {},
   "outputs": [],
   "source": [
    "edges_to_test_df[:50]"
   ]
  },
  {
   "cell_type": "code",
   "execution_count": null,
   "id": "7405a1fb",
   "metadata": {},
   "outputs": [],
   "source": [
    "edges_to_test_df.groupby('forward_pred').count()"
   ]
  },
  {
   "cell_type": "code",
   "execution_count": null,
   "id": "be7e4cfe",
   "metadata": {},
   "outputs": [],
   "source": [
    "edges_to_test_df.groupby('backward_pred').count()"
   ]
  },
  {
   "cell_type": "code",
   "execution_count": null,
   "id": "3f3865e8",
   "metadata": {},
   "outputs": [],
   "source": [
    "edges_to_test_df.groupby(2).count()"
   ]
  },
  {
   "cell_type": "code",
   "execution_count": null,
   "id": "2a11ae8a",
   "metadata": {},
   "outputs": [],
   "source": [
    "labels = edges_to_test_df[2]\n",
    "\n",
    "forward_f1 = metrics.precision_recall_fscore_support(labels, edges_to_test_df['forward_pred'], pos_label=0, average='binary')\n",
    "backward_f1 = metrics.precision_recall_fscore_support(labels, edges_to_test_df['backward_pred'], pos_label=0, average='binary')\n",
    "\n",
    "forward_f1, backward_f1"
   ]
  },
  {
   "cell_type": "code",
   "execution_count": null,
   "id": "1e08717a",
   "metadata": {},
   "outputs": [],
   "source": [
    "validation_set = []\n",
    "testing_set = []\n",
    "\n",
    "for i,g in edges_to_test_df.groupby(2):\n",
    "    \n",
    "    perm = g.sample(len(g), random_state=np.random.RandomState(42))\n",
    "    \n",
    "    val = perm[:int(len(g)*0.02)]\n",
    "    test = perm[int(len(g)*0.02):]\n",
    "    \n",
    "    validation_set.append(val)\n",
    "    testing_set.append(test)"
   ]
  },
  {
   "cell_type": "code",
   "execution_count": null,
   "id": "830635c7",
   "metadata": {},
   "outputs": [],
   "source": [
    "validation_set = pd.concat(validation_set)\n",
    "testing_set = pd.concat(testing_set)"
   ]
  },
  {
   "cell_type": "code",
   "execution_count": null,
   "id": "9e9a81e1",
   "metadata": {},
   "outputs": [],
   "source": [
    "len(testing_set), len(validation_set)"
   ]
  },
  {
   "cell_type": "code",
   "execution_count": null,
   "id": "c8543c56",
   "metadata": {},
   "outputs": [],
   "source": [
    "from sklearn import metrics"
   ]
  },
  {
   "cell_type": "code",
   "execution_count": null,
   "id": "10e077b0",
   "metadata": {},
   "outputs": [],
   "source": [
    "scores = []\n",
    "\n",
    "for threshold in tqdm(np.arange(min(validation_set[3]),max(validation_set[3]))):\n",
    "    labels = validation_set[2]\n",
    "    preds = [d < threshold for d in validation_set[3]]\n",
    "    \n",
    "    f1 = metrics.f1_score(labels, preds)\n",
    "    scores.append(f1)"
   ]
  },
  {
   "cell_type": "code",
   "execution_count": null,
   "id": "3bdbb34d",
   "metadata": {},
   "outputs": [],
   "source": [
    "thresholds = np.arange(min(validation_set[3]),max(validation_set[3]))\n",
    "plt = pd.DataFrame(thresholds)\n",
    "plt['scores'] = scores\n",
    "\n",
    "optimal_thresh = thresholds[np.argmax(scores)]\n",
    "plt.plot(0,'scores')"
   ]
  },
  {
   "cell_type": "code",
   "execution_count": null,
   "id": "6e564ec0",
   "metadata": {},
   "outputs": [],
   "source": [
    "labels = validation_set[2]\n",
    "sapbert_preds = [d < optimal_thresh for d in validation_set[3]]\n",
    "    \n",
    "sapbert_f1 = metrics.f1_score(labels, sapbert_preds)\n",
    "forward_ubert_f1 = metrics.f1_score(labels, validation_set['forward_pred'])\n",
    "backward_ubert_f1 = metrics.f1_score(labels, validation_set['backward_pred'])"
   ]
  },
  {
   "cell_type": "code",
   "execution_count": null,
   "id": "2ee56cba",
   "metadata": {},
   "outputs": [],
   "source": [
    "sapbert_f1"
   ]
  },
  {
   "cell_type": "code",
   "execution_count": null,
   "id": "f5eeddad",
   "metadata": {},
   "outputs": [],
   "source": [
    "forward_ubert_f1"
   ]
  },
  {
   "cell_type": "code",
   "execution_count": null,
   "id": "b304f648",
   "metadata": {},
   "outputs": [],
   "source": [
    "backward_ubert_f1"
   ]
  },
  {
   "cell_type": "code",
   "execution_count": null,
   "id": "08a896e8",
   "metadata": {},
   "outputs": [],
   "source": []
  }
 ],
 "metadata": {
  "kernelspec": {
   "display_name": "Python 3 (ipykernel)",
   "language": "python",
   "name": "python3"
  },
  "language_info": {
   "codemirror_mode": {
    "name": "ipython",
    "version": 3
   },
   "file_extension": ".py",
   "mimetype": "text/x-python",
   "name": "python",
   "nbconvert_exporter": "python",
   "pygments_lexer": "ipython3",
   "version": "3.7.12"
  }
 },
 "nbformat": 4,
 "nbformat_minor": 5
}
