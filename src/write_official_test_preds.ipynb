{
 "cells": [
  {
   "cell_type": "code",
   "execution_count": null,
   "id": "ca228676",
   "metadata": {},
   "outputs": [],
   "source": [
    "import pickle\n",
    "import pandas as pd\n",
    "from tqdm import tqdm\n",
    "import numpy as np"
   ]
  },
  {
   "cell_type": "code",
   "execution_count": null,
   "id": "0241133e",
   "metadata": {},
   "outputs": [],
   "source": [
    "pd.set_option('display.max_rows',500)"
   ]
  },
  {
   "cell_type": "code",
   "execution_count": null,
   "id": "ff88ce75",
   "metadata": {},
   "outputs": [],
   "source": [
    "aui_info = []\n",
    "\n",
    "with open('/data/Bodenreider_UMLS_DL/UMLS_VERSIONS/2020AB-ACTIVE/META/MRCONSO.RRF','r') as fp:\n",
    "    \n",
    "    for line in fp.readlines():\n",
    "        line = line.split('|')\n",
    "        cui = line[0]\n",
    "        aui = line[7]\n",
    "        string = line[-5]\n",
    "        \n",
    "        aui_info.append({'AUI':aui, 'CUI':cui, 'STR':string})\n",
    "        \n",
    "cui2sg = {}\n",
    "\n",
    "with open('/data/Bodenreider_UMLS_DL/UMLS_VERSIONS/2020AB-ACTIVE/META/MRSTY.RRF','r') as fp:\n",
    "    \n",
    "    for line in fp.readlines():\n",
    "        line = line.split('|')\n",
    "        cui = line[0]\n",
    "        sg = line[3]\n",
    "        cui2sg[cui] = sg"
   ]
  },
  {
   "cell_type": "code",
   "execution_count": null,
   "id": "abdfefe1",
   "metadata": {},
   "outputs": [],
   "source": [
    "cui2aui = {}\n",
    "aui2cui = {}\n",
    "aui2sg = {}\n",
    "\n",
    "cui_sg = []\n",
    "cui_aui = []\n",
    "\n",
    "for tup in aui_info:\n",
    "    aui = tup['AUI']\n",
    "    cui = tup['CUI']\n",
    "    sg = cui2sg[cui]\n",
    "    \n",
    "    auis = cui2aui.get(cui, [])\n",
    "    auis.append(aui)\n",
    "    cui2aui[cui] = auis\n",
    "    \n",
    "    aui2cui[aui] = cui\n",
    "    \n",
    "    cui_sg.append((cui, sg))\n",
    "    cui_aui.append((cui, aui))"
   ]
  },
  {
   "cell_type": "code",
   "execution_count": null,
   "id": "82a0f2f1",
   "metadata": {},
   "outputs": [],
   "source": [
    "len(aui2cui)"
   ]
  },
  {
   "cell_type": "code",
   "execution_count": null,
   "id": "8cf23d01",
   "metadata": {},
   "outputs": [],
   "source": [
    "len(cui2aui)"
   ]
  },
  {
   "cell_type": "code",
   "execution_count": null,
   "id": "23080d08",
   "metadata": {},
   "outputs": [],
   "source": [
    "def load_large_scale(filename, sep):\n",
    "    tuples = []\n",
    "    \n",
    "    with open(filename,'r') as f:\n",
    "    \n",
    "        for line in tqdm(f.readlines()):\n",
    "            sep_line = line.split(sep)\n",
    "            \n",
    "            tuples.append(tuple(sep_line))\n",
    "            \n",
    "    return tuples"
   ]
  },
  {
   "cell_type": "code",
   "execution_count": null,
   "id": "d45360a0",
   "metadata": {},
   "outputs": [],
   "source": [
    "#Loading Official Test Set\n",
    "official_test = load_large_scale('/data/Bodenreider_UMLS_DL/thilini/EXPERIMENTS/new_testing_dataset/dedup_test_data.RRF','|')"
   ]
  },
  {
   "cell_type": "code",
   "execution_count": null,
   "id": "62172614",
   "metadata": {},
   "outputs": [],
   "source": [
    "fps = load_large_scale('/data/Bodenreider_UMLS_DL/thilini/EXPERIMENTS/error_analysis/FP_with_auis.csv','|')\n",
    "fns = load_large_scale('/data/Bodenreider_UMLS_DL/thilini/EXPERIMENTS/error_analysis/FN_with_auis.csv','|')\n",
    "tps = load_large_scale('/data/Bodenreider_UMLS_DL/thilini/EXPERIMENTS/error_analysis/TP_with_auis.csv','|')"
   ]
  },
  {
   "cell_type": "code",
   "execution_count": null,
   "id": "ed00f59e",
   "metadata": {},
   "outputs": [],
   "source": [
    "tns = load_large_scale('/data/Bodenreider_UMLS_DL/thilini/EXPERIMENTS/error_analysis/TN_with_auis.csv','|')"
   ]
  },
  {
   "cell_type": "code",
   "execution_count": null,
   "id": "2d647cc1",
   "metadata": {},
   "outputs": [],
   "source": [
    "for df in [tps,tns,fps,fns]:\n",
    "    \n",
    "    print(df[:5])"
   ]
  },
  {
   "cell_type": "code",
   "execution_count": null,
   "id": "0aa10f82",
   "metadata": {},
   "outputs": [],
   "source": [
    "official_sorted_test = {}\n",
    "\n",
    "for ex in tqdm(official_test):\n",
    "    \n",
    "    a1 = ex[1]\n",
    "    a2 = ex[2]\n",
    "    \n",
    "    label = int(ex[3].strip())\n",
    "    \n",
    "    if a1 > a2:\n",
    "        sorted_example = [a1, a2]\n",
    "    else:\n",
    "        sorted_example = [a2, a1]\n",
    "        \n",
    "    sorted_example_key = ' = '.join(sorted_example)\n",
    "    official_sorted_test[sorted_example_key] = label"
   ]
  },
  {
   "cell_type": "code",
   "execution_count": null,
   "id": "0d60961e",
   "metadata": {},
   "outputs": [],
   "source": [
    "len(official_sorted_test)"
   ]
  },
  {
   "cell_type": "code",
   "execution_count": null,
   "id": "52175e25",
   "metadata": {},
   "outputs": [],
   "source": [
    "changed_values = 0\n",
    "\n",
    "for data in [tps, tns, fps, fns]:\n",
    "    \n",
    "    for ex in tqdm(data[1:]):\n",
    "    \n",
    "        a1 = ex[0]\n",
    "        a2 = ex[2]\n",
    "\n",
    "        #Error Analysis has 0 as positive class (Not sure why)\n",
    "        label = int(ex[-2].strip()) == 0\n",
    "        prediction = int(ex[-1].strip()) == 0\n",
    "\n",
    "        if a1 > a2:\n",
    "            sorted_example = [a1, a2]\n",
    "        else:\n",
    "            sorted_example = [a2, a1]\n",
    "\n",
    "        sorted_example_key = ' = '.join(sorted_example)\n",
    "\n",
    "        official_label = official_sorted_test[sorted_example_key]\n",
    "\n",
    "        if type(official_label) == int:\n",
    "            assert official_label == label\n",
    "            official_sorted_test[sorted_example_key] = (label, prediction)\n",
    "            \n",
    "            changed_values += 1"
   ]
  },
  {
   "cell_type": "code",
   "execution_count": null,
   "id": "9eb37385",
   "metadata": {},
   "outputs": [],
   "source": [
    "changed_values"
   ]
  },
  {
   "cell_type": "code",
   "execution_count": null,
   "id": "918607d2",
   "metadata": {},
   "outputs": [],
   "source": [
    "tps = None\n",
    "tns = None\n",
    "fps = None\n",
    "fns = None"
   ]
  },
  {
   "cell_type": "code",
   "execution_count": null,
   "id": "56735246",
   "metadata": {},
   "outputs": [],
   "source": [
    "del tns"
   ]
  },
  {
   "cell_type": "code",
   "execution_count": null,
   "id": "2bcd0850",
   "metadata": {},
   "outputs": [],
   "source": [
    "import gc"
   ]
  },
  {
   "cell_type": "code",
   "execution_count": null,
   "id": "17793f35",
   "metadata": {},
   "outputs": [],
   "source": [
    "gc.collect()"
   ]
  },
  {
   "cell_type": "code",
   "execution_count": null,
   "id": "9230936a",
   "metadata": {},
   "outputs": [],
   "source": [
    "pickle.dump(official_sorted_test, open('official__test_label_preds_dict.p','wb'))"
   ]
  },
  {
   "cell_type": "code",
   "execution_count": null,
   "id": "9d23e56b",
   "metadata": {},
   "outputs": [],
   "source": [
    "with open('/data/Bodenreider_UMLS_DL/Interns/Bernal/UBERT_Analysis/official_test_predictions.tsv','w') as f:\n",
    "\n",
    "    for ex in tqdm(official_test):\n",
    "\n",
    "        a1 = ex[1]\n",
    "        a2 = ex[2]\n",
    "\n",
    "        if a1 > a2:\n",
    "            sorted_example = [a1, a2]\n",
    "        else:\n",
    "            sorted_example = [a2, a1]\n",
    "\n",
    "        sorted_example_key = ' = '.join(sorted_example)\n",
    "\n",
    "        label, prediction = official_sorted_test[sorted_example_key]\n",
    "\n",
    "        f.write('\\t'.join([a1, a2, str(int(label)), str(int(prediction))]) + '\\n')"
   ]
  },
  {
   "cell_type": "code",
   "execution_count": null,
   "id": "95e84b6e",
   "metadata": {},
   "outputs": [],
   "source": [
    "def same_sg_edge(aui1, aui2):\n",
    "    \n",
    "    cui1 = aui2cui[aui1]\n",
    "    cui2 = aui2cui[aui2]\n",
    "\n",
    "    sg1 = cui2sg[cui1]\n",
    "    sg2 = cui2sg[cui2]\n",
    "    \n",
    "    if sg1 == sg2:\n",
    "        return True\n",
    "    else:\n",
    "        return False\n",
    "\n",
    "inter_sg_fps = []\n",
    "intra_sg_fps = []\n",
    "\n",
    "present = 0\n",
    "total_edges = 0\n",
    "\n",
    "for i, row in tqdm(fps.iterrows()):    \n",
    "    aui1 = row['aui1']\n",
    "    aui2 = row['aui2']\n",
    "    \n",
    "    total_edges += 1\n",
    "    \n",
    "    if aui1 in aui2cui and aui2 in aui2cui:\n",
    "        \n",
    "        if same_sg_edge(aui1, aui2):\n",
    "            intra_sg_fps.append(row)\n",
    "        else:\n",
    "            inter_sg_fps.append(row)\n",
    "            \n",
    "        present += 1"
   ]
  },
  {
   "cell_type": "code",
   "execution_count": null,
   "id": "afaf7e79",
   "metadata": {},
   "outputs": [],
   "source": [
    "len(inter_sg_fps)"
   ]
  },
  {
   "cell_type": "code",
   "execution_count": null,
   "id": "e6e7f22c",
   "metadata": {},
   "outputs": [],
   "source": [
    "len(intra_sg_fps)"
   ]
  },
  {
   "cell_type": "code",
   "execution_count": null,
   "id": "4bc01a8c",
   "metadata": {},
   "outputs": [],
   "source": [
    "aui2cui['A24114892']"
   ]
  },
  {
   "cell_type": "code",
   "execution_count": null,
   "id": "9730ff2b",
   "metadata": {},
   "outputs": [],
   "source": []
  }
 ],
 "metadata": {
  "kernelspec": {
   "display_name": "Python 3 (ipykernel)",
   "language": "python",
   "name": "python3"
  },
  "language_info": {
   "codemirror_mode": {
    "name": "ipython",
    "version": 3
   },
   "file_extension": ".py",
   "mimetype": "text/x-python",
   "name": "python",
   "nbconvert_exporter": "python",
   "pygments_lexer": "ipython3",
   "version": "3.7.12"
  }
 },
 "nbformat": 4,
 "nbformat_minor": 5
}
