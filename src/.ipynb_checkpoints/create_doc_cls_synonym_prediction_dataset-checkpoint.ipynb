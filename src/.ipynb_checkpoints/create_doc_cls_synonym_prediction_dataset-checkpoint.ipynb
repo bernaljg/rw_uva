{
 "cells": [
  {
   "cell_type": "code",
   "execution_count": 1,
   "id": "a0a8d32f",
   "metadata": {},
   "outputs": [],
   "source": [
    "import pandas as pd\n",
    "import pickle\n",
    "from UMLS import UMLS\n",
    "from tqdm import tqdm\n",
    "import numpy as np"
   ]
  },
  {
   "cell_type": "code",
   "execution_count": null,
   "id": "cb72d9e9",
   "metadata": {},
   "outputs": [
    {
     "name": "stdout",
     "output_type": "stream",
     "text": [
      "Loading Raw MRCONSO Lines\n"
     ]
    },
    {
     "name": "stderr",
     "output_type": "stream",
     "text": [
      "  1%|█                                                                                   | 185250/15000000 [00:00<00:52, 281054.15it/s]"
     ]
    }
   ],
   "source": [
    "umls = UMLS()\n",
    "umls.load_umls()"
   ]
  },
  {
   "cell_type": "code",
   "execution_count": 5,
   "id": "2ca87711",
   "metadata": {},
   "outputs": [],
   "source": [
    "aui_dataset = pickle.load(open('/data/Bodenreider_UMLS_DL/Interns/Bernal/aui_pairwise_data_splits.100.p','rb'))"
   ]
  },
  {
   "cell_type": "code",
   "execution_count": 6,
   "id": "76bd0060",
   "metadata": {},
   "outputs": [
    {
     "name": "stderr",
     "output_type": "stream",
     "text": [
      "100%|██████████████████████████████████████████████████████████████████████████████████| 39752768/39752768 [01:51<00:00, 355440.82it/s]\n",
      "100%|██████████████████████████████████████████████████████████████████████████████████| 11604015/11604015 [00:22<00:00, 511223.40it/s]\n",
      "100%|████████████████████████████████████████████████████████████████████████████████████| 5469322/5469322 [00:11<00:00, 466585.80it/s]\n"
     ]
    }
   ],
   "source": [
    "for split, tups in aui_dataset.items():\n",
    "    \n",
    "    one_way = []\n",
    "    two_way = []\n",
    "    \n",
    "    if split == 'val':\n",
    "        split = 'dev'\n",
    "        \n",
    "    for aui1, aui2, label in tqdm(tups):\n",
    "\n",
    "        str1 = umls.aui2str[aui1]\n",
    "        str2 = umls.aui2str[aui2]\n",
    "\n",
    "        one_way.append((str1 + ' [SEP] ' + str2, label))\n",
    "        if split == 'train':\n",
    "            two_way.append((str1 + ' [SEP] ' + str2, label))\n",
    "            two_way.append((str2 + ' [SEP] ' + str1, label))\n",
    "        \n",
    "    one_way_df = pd.DataFrame(one_way, columns=['sents','labels'])\n",
    "    one_way_df = one_way_df.sample(len(one_way_df), random_state=np.random.RandomState(42))\n",
    "    \n",
    "    if split == 'train':\n",
    "        two_way_df = pd.DataFrame(two_way, columns=['sents','labels'])\n",
    "        two_way_df = two_way_df.sample(len(two_way_df), random_state=np.random.RandomState(42))\n",
    "    else:\n",
    "        two_way_df = one_way_df\n",
    "    \n",
    "    one_way_df.to_csv('/data/Bodenreider_UMLS_DL/Interns/Bernal/data/RW-UVA-2020AB-one-way/{}.tsv'.format(split), sep='\\t', quoting=3)\n",
    "    two_way_df.to_csv('/data/Bodenreider_UMLS_DL/Interns/Bernal/data/RW-UVA-2020AB-two-way/{}.tsv'.format(split), sep='\\t', quoting=3)"
   ]
  },
  {
   "cell_type": "code",
   "execution_count": null,
   "id": "e90798dd",
   "metadata": {},
   "outputs": [],
   "source": []
  }
 ],
 "metadata": {
  "kernelspec": {
   "display_name": "Python 3 (ipykernel)",
   "language": "python",
   "name": "python3"
  },
  "language_info": {
   "codemirror_mode": {
    "name": "ipython",
    "version": 3
   },
   "file_extension": ".py",
   "mimetype": "text/x-python",
   "name": "python",
   "nbconvert_exporter": "python",
   "pygments_lexer": "ipython3",
   "version": "3.7.12"
  }
 },
 "nbformat": 4,
 "nbformat_minor": 5
}
