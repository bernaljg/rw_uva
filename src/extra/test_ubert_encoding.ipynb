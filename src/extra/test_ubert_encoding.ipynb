{
 "cells": [
  {
   "cell_type": "code",
   "execution_count": 1,
   "id": "4dcc038c",
   "metadata": {},
   "outputs": [],
   "source": [
    "import pickle\n",
    "import numpy as np\n",
    "import pandas as pd\n",
    "import os\n",
    "from tqdm import tqdm\n",
    "import copy\n",
    "import glob\n",
    "import transformers\n",
    "import torch"
   ]
  },
  {
   "cell_type": "code",
   "execution_count": 2,
   "id": "97d70316",
   "metadata": {},
   "outputs": [],
   "source": [
    "from transformers import AutoModel, AutoTokenizer, BertTokenizer"
   ]
  },
  {
   "cell_type": "code",
   "execution_count": 3,
   "id": "4fc1451f",
   "metadata": {},
   "outputs": [],
   "source": [
    "tokenizer_filename = 'cambridgeltl/SapBERT-from-PubMedBERT-fulltext'\n",
    "pt_model = \"/data/Bodenreider_UMLS_DL/thilini/EXPERIMENTS/6_SAPBERT_SP/train/out_from_sapbert_from_3/checkpoint-1392096/\""
   ]
  },
  {
   "cell_type": "code",
   "execution_count": 4,
   "id": "27b754da",
   "metadata": {},
   "outputs": [
    {
     "name": "stderr",
     "output_type": "stream",
     "text": [
      "Some weights of the model checkpoint at /data/Bodenreider_UMLS_DL/thilini/EXPERIMENTS/6_SAPBERT_SP/train/out_from_sapbert_from_3/checkpoint-1392096/ were not used when initializing BertModel: ['cls.seq_relationship.bias', 'cls.seq_relationship.weight']\n",
      "- This IS expected if you are initializing BertModel from the checkpoint of a model trained on another task or with another architecture (e.g. initializing a BertForSequenceClassification model from a BertForPreTraining model).\n",
      "- This IS NOT expected if you are initializing BertModel from the checkpoint of a model that you expect to be exactly identical (initializing a BertForSequenceClassification model from a BertForSequenceClassification model).\n"
     ]
    }
   ],
   "source": [
    "try:\n",
    "    tokenizer = BertTokenizer(tokenizer_filename)\n",
    "except:\n",
    "    tokenizer = AutoTokenizer.from_pretrained(tokenizer_filename)\n",
    "    \n",
    "model = AutoModel.from_pretrained(pt_model)"
   ]
  },
  {
   "cell_type": "code",
   "execution_count": 11,
   "id": "18321416",
   "metadata": {},
   "outputs": [],
   "source": [
    "query = 'Membership'\n",
    "false_negative = 'memberships'\n",
    "false_positive = 'gallbladder disease 4'\n",
    "false_positive2 = 'gallbladder'\n",
    "false_positive3 = 'disease 4'"
   ]
  },
  {
   "cell_type": "code",
   "execution_count": 42,
   "id": "494b007f",
   "metadata": {},
   "outputs": [],
   "source": [
    "query = 'Bullying, Cyber'\n",
    "false_negative = 'Cyberbullying'\n",
    "false_positive = 'trimebutine'\n",
    "false_positive2 = 'Reason for assessment (observable entity)'\n",
    "false_positive3 = 'Reason for assessment'"
   ]
  },
  {
   "cell_type": "code",
   "execution_count": 12,
   "id": "98c119f6",
   "metadata": {},
   "outputs": [],
   "source": [
    "text_batch = [query, false_negative, false_positive, false_positive2, false_positive3]"
   ]
  },
  {
   "cell_type": "code",
   "execution_count": 13,
   "id": "8aa9c9d9",
   "metadata": {},
   "outputs": [],
   "source": [
    "with torch.no_grad():\n",
    "    encoding = tokenizer(text_batch, return_tensors='pt', padding=True, truncation=True,max_length=model.config.max_length)\n",
    "    input_ids = encoding['input_ids']\n",
    "    attention_mask = encoding['attention_mask']\n",
    "\n",
    "    outputs = model(input_ids, attention_mask=attention_mask)"
   ]
  },
  {
   "cell_type": "code",
   "execution_count": 14,
   "id": "a6848e07",
   "metadata": {},
   "outputs": [],
   "source": [
    "o = outputs[0][:,0,:].numpy()"
   ]
  },
  {
   "cell_type": "code",
   "execution_count": 15,
   "id": "6a28cb9e",
   "metadata": {},
   "outputs": [],
   "source": [
    "from sklearn.metrics.pairwise import cosine_similarity\n",
    "from sklearn.metrics.pairwise import manhattan_distances"
   ]
  },
  {
   "cell_type": "code",
   "execution_count": 16,
   "id": "eaa9458c",
   "metadata": {},
   "outputs": [
    {
     "name": "stdout",
     "output_type": "stream",
     "text": [
      "Membership Membership\n",
      "1.0\n",
      "0.0\n",
      "\n",
      "Membership memberships\n",
      "0.9746059\n",
      "46.52413746831007\n",
      "\n",
      "Membership gallbladder disease 4\n",
      "0.99748904\n",
      "14.34048222318961\n",
      "\n",
      "Membership gallbladder\n",
      "0.6948005\n",
      "193.81846785095695\n",
      "\n",
      "Membership disease 4\n",
      "0.43971342\n",
      "273.6131640996464\n",
      "\n"
     ]
    }
   ],
   "source": [
    "for i,word in enumerate(text_batch):\n",
    "    print(text_batch[0], word)\n",
    "    print(cosine_similarity(o[[0]],o[[i]])[0,0])\n",
    "    print(manhattan_distances(o[[0]],o[[i]])[0,0])\n",
    "    print()"
   ]
  },
  {
   "cell_type": "code",
   "execution_count": null,
   "id": "0e4e279e",
   "metadata": {},
   "outputs": [],
   "source": []
  },
  {
   "cell_type": "code",
   "execution_count": 71,
   "id": "7d6aa61a",
   "metadata": {},
   "outputs": [
    {
     "data": {
      "text/plain": [
       "array([[0.8871909]], dtype=float32)"
      ]
     },
     "execution_count": 71,
     "metadata": {},
     "output_type": "execute_result"
    }
   ],
   "source": [
    "cosine_similarity(o[[0]],o[[1]])"
   ]
  },
  {
   "cell_type": "code",
   "execution_count": 72,
   "id": "2ab3b2a9",
   "metadata": {},
   "outputs": [
    {
     "data": {
      "text/plain": [
       "array([[0.89589125]], dtype=float32)"
      ]
     },
     "execution_count": 72,
     "metadata": {},
     "output_type": "execute_result"
    }
   ],
   "source": [
    "cosine_similarity(o[[0]],o[[2]])"
   ]
  },
  {
   "cell_type": "code",
   "execution_count": 73,
   "id": "326f2e80",
   "metadata": {},
   "outputs": [
    {
     "data": {
      "text/plain": [
       "array([[0.9454955]], dtype=float32)"
      ]
     },
     "execution_count": 73,
     "metadata": {},
     "output_type": "execute_result"
    }
   ],
   "source": [
    "cosine_similarity(o[[0]],o[[3]])"
   ]
  },
  {
   "cell_type": "code",
   "execution_count": null,
   "id": "f4642a4c",
   "metadata": {},
   "outputs": [],
   "source": []
  }
 ],
 "metadata": {
  "kernelspec": {
   "display_name": "Python 3 (ipykernel)",
   "language": "python",
   "name": "python3"
  },
  "language_info": {
   "codemirror_mode": {
    "name": "ipython",
    "version": 3
   },
   "file_extension": ".py",
   "mimetype": "text/x-python",
   "name": "python",
   "nbconvert_exporter": "python",
   "pygments_lexer": "ipython3",
   "version": "3.7.12"
  }
 },
 "nbformat": 4,
 "nbformat_minor": 5
}
