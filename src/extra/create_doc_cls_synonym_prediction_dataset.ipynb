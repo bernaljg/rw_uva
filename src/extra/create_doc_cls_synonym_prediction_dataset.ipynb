{
 "cells": [
  {
   "cell_type": "code",
   "execution_count": 1,
   "id": "a0a8d32f",
   "metadata": {},
   "outputs": [],
   "source": [
    "import pandas as pd\n",
    "import pickle\n",
    "from UMLS import UMLS\n",
    "from tqdm import tqdm\n",
    "import numpy as np"
   ]
  },
  {
   "cell_type": "code",
   "execution_count": 2,
   "id": "cb72d9e9",
   "metadata": {},
   "outputs": [
    {
     "name": "stdout",
     "output_type": "stream",
     "text": [
      "Loading Raw MRCONSO Lines\n"
     ]
    },
    {
     "name": "stderr",
     "output_type": "stream",
     "text": [
      "15229292it [00:55, 272717.53it/s]                                                                                                      \n"
     ]
    },
    {
     "name": "stdout",
     "output_type": "stream",
     "text": [
      "Creating mappings between concept IDs for easy access.\n"
     ]
    },
    {
     "name": "stderr",
     "output_type": "stream",
     "text": [
      " 55%|██████████████████████████████████████████████▋                                      | 8357481/15229292 [01:54<18:05, 6328.92it/s]"
     ]
    },
    {
     "name": "stdout",
     "output_type": "stream",
     "text": [
      "('A9260151', 'C1673160', 'Leifsonia sp. MN 177', '301553', 'NCBI', 'P', 'PF', 'ENG', 'L5741548')\n"
     ]
    },
    {
     "name": "stderr",
     "output_type": "stream",
     "text": [
      " 63%|█████████████████████████████████████████████████████▊                               | 9644430/15229292 [02:12<12:31, 7427.46it/s]"
     ]
    },
    {
     "name": "stdout",
     "output_type": "stream",
     "text": [
      "('A17270778', 'C2233930', 'skin necrosis of metatarsophalangeal joint of fifth toe of right foot', '290904', 'MEDCIN', 'P', 'PF', 'ENG', 'L9020939')\n"
     ]
    },
    {
     "name": "stderr",
     "output_type": "stream",
     "text": [
      " 74%|█████████████████████████████████████████████████████████████▉                      | 11222311/15229292 [02:39<15:25, 4327.39it/s]"
     ]
    },
    {
     "name": "stdout",
     "output_type": "stream",
     "text": [
      "('A19079852', 'C3089709', 'Haplotaxida sp. BOLD:AAM2303', '918004', 'NCBI', 'P', 'PF', 'ENG', 'L9741807')\n"
     ]
    },
    {
     "name": "stderr",
     "output_type": "stream",
     "text": [
      " 86%|████████████████████████████████████████████████████████████████████████▌           | 13162950/15229292 [03:05<05:42, 6034.04it/s]"
     ]
    },
    {
     "name": "stdout",
     "output_type": "stream",
     "text": [
      "('A26761107', 'C4107309', 'Calomera cristipennis', '1603913', 'NCBI', 'P', 'PF', 'ENG', 'L13209948')\n"
     ]
    },
    {
     "name": "stderr",
     "output_type": "stream",
     "text": [
      " 99%|███████████████████████████████████████████████████████████████████████████████████▌| 15147023/15229292 [03:34<00:23, 3530.64it/s]"
     ]
    },
    {
     "name": "stdout",
     "output_type": "stream",
     "text": [
      "('A32062011', 'C5337861', 'unclassified Lunulospora', '2649813', 'NCBI', 'P', 'PF', 'ENG', 'L16346694')\n"
     ]
    },
    {
     "name": "stderr",
     "output_type": "stream",
     "text": [
      "100%|███████████████████████████████████████████████████████████████████████████████████| 15229292/15229292 [03:35<00:00, 70665.27it/s]\n"
     ]
    },
    {
     "ename": "AttributeError",
     "evalue": "'UMLS' object has no attribute 'load_umls'",
     "output_type": "error",
     "traceback": [
      "\u001b[0;31m---------------------------------------------------------------------------\u001b[0m",
      "\u001b[0;31mAttributeError\u001b[0m                            Traceback (most recent call last)",
      "\u001b[0;32m/tmp/ipykernel_55834/741739728.py\u001b[0m in \u001b[0;36m<module>\u001b[0;34m\u001b[0m\n\u001b[1;32m      1\u001b[0m \u001b[0mumls\u001b[0m \u001b[0;34m=\u001b[0m \u001b[0mUMLS\u001b[0m\u001b[0;34m(\u001b[0m\u001b[0;34m)\u001b[0m\u001b[0;34m\u001b[0m\u001b[0;34m\u001b[0m\u001b[0m\n\u001b[0;32m----> 2\u001b[0;31m \u001b[0mumls\u001b[0m\u001b[0;34m.\u001b[0m\u001b[0mload_umls\u001b[0m\u001b[0;34m(\u001b[0m\u001b[0;34m)\u001b[0m\u001b[0;34m\u001b[0m\u001b[0;34m\u001b[0m\u001b[0m\n\u001b[0m",
      "\u001b[0;31mAttributeError\u001b[0m: 'UMLS' object has no attribute 'load_umls'"
     ]
    }
   ],
   "source": [
    "umls = UMLS()"
   ]
  },
  {
   "cell_type": "code",
   "execution_count": 6,
   "id": "adc03222",
   "metadata": {},
   "outputs": [],
   "source": [
    "scuis = []\n",
    "\n",
    "for aui, scui in umls.aui2scui.items():\n",
    "    scuis.append(scui.split('|||')[0])"
   ]
  },
  {
   "cell_type": "code",
   "execution_count": 7,
   "id": "1009ebfc",
   "metadata": {},
   "outputs": [
    {
     "data": {
      "text/html": [
       "<div>\n",
       "<style scoped>\n",
       "    .dataframe tbody tr th:only-of-type {\n",
       "        vertical-align: middle;\n",
       "    }\n",
       "\n",
       "    .dataframe tbody tr th {\n",
       "        vertical-align: top;\n",
       "    }\n",
       "\n",
       "    .dataframe thead th {\n",
       "        text-align: right;\n",
       "    }\n",
       "</style>\n",
       "<table border=\"1\" class=\"dataframe\">\n",
       "  <thead>\n",
       "    <tr style=\"text-align: right;\">\n",
       "      <th></th>\n",
       "      <th>id</th>\n",
       "    </tr>\n",
       "    <tr>\n",
       "      <th>0</th>\n",
       "      <th></th>\n",
       "    </tr>\n",
       "  </thead>\n",
       "  <tbody>\n",
       "    <tr>\n",
       "      <th></th>\n",
       "      <td>3436449</td>\n",
       "    </tr>\n",
       "    <tr>\n",
       "      <th>M0023808</th>\n",
       "      <td>265</td>\n",
       "    </tr>\n",
       "    <tr>\n",
       "      <th>81401</th>\n",
       "      <td>209</td>\n",
       "    </tr>\n",
       "    <tr>\n",
       "      <th>M0012822</th>\n",
       "      <td>208</td>\n",
       "    </tr>\n",
       "    <tr>\n",
       "      <th>M0012818</th>\n",
       "      <td>203</td>\n",
       "    </tr>\n",
       "    <tr>\n",
       "      <th>...</th>\n",
       "      <td>...</td>\n",
       "    </tr>\n",
       "    <tr>\n",
       "      <th>2310231</th>\n",
       "      <td>1</td>\n",
       "    </tr>\n",
       "    <tr>\n",
       "      <th>2310232</th>\n",
       "      <td>1</td>\n",
       "    </tr>\n",
       "    <tr>\n",
       "      <th>2310233</th>\n",
       "      <td>1</td>\n",
       "    </tr>\n",
       "    <tr>\n",
       "      <th>2310234</th>\n",
       "      <td>1</td>\n",
       "    </tr>\n",
       "    <tr>\n",
       "      <th>status</th>\n",
       "      <td>1</td>\n",
       "    </tr>\n",
       "  </tbody>\n",
       "</table>\n",
       "<p>3799325 rows × 1 columns</p>\n",
       "</div>"
      ],
      "text/plain": [
       "               id\n",
       "0                \n",
       "          3436449\n",
       "M0023808      265\n",
       "81401         209\n",
       "M0012822      208\n",
       "M0012818      203\n",
       "...           ...\n",
       "2310231         1\n",
       "2310232         1\n",
       "2310233         1\n",
       "2310234         1\n",
       "status          1\n",
       "\n",
       "[3799325 rows x 1 columns]"
      ]
     },
     "execution_count": 7,
     "metadata": {},
     "output_type": "execute_result"
    }
   ],
   "source": [
    "df = pd.DataFrame(scuis)\n",
    "df['id'] = range(len(df))\n",
    "df.groupby(0).count().sort_values('id',ascending=False)"
   ]
  },
  {
   "cell_type": "code",
   "execution_count": 5,
   "id": "2ca87711",
   "metadata": {},
   "outputs": [],
   "source": [
    "aui_dataset = pickle.load(open('/data/Bodenreider_UMLS_DL/Interns/Bernal/aui_pairwise_data_splits.100.p','rb'))"
   ]
  },
  {
   "cell_type": "code",
   "execution_count": 6,
   "id": "76bd0060",
   "metadata": {},
   "outputs": [
    {
     "name": "stderr",
     "output_type": "stream",
     "text": [
      "100%|██████████████████████████████████████████████████████████████████████████████████| 39752768/39752768 [01:51<00:00, 355440.82it/s]\n",
      "100%|██████████████████████████████████████████████████████████████████████████████████| 11604015/11604015 [00:22<00:00, 511223.40it/s]\n",
      "100%|████████████████████████████████████████████████████████████████████████████████████| 5469322/5469322 [00:11<00:00, 466585.80it/s]\n"
     ]
    }
   ],
   "source": [
    "for split, tups in aui_dataset.items():\n",
    "    \n",
    "    one_way = []\n",
    "    two_way = []\n",
    "    \n",
    "    if split == 'val':\n",
    "        split = 'dev'\n",
    "        \n",
    "    for aui1, aui2, label in tqdm(tups):\n",
    "\n",
    "        str1 = umls.aui2str[aui1]\n",
    "        str2 = umls.aui2str[aui2]\n",
    "\n",
    "        one_way.append((str1 + ' [SEP] ' + str2, label))\n",
    "        if split == 'train':\n",
    "            two_way.append((str1 + ' [SEP] ' + str2, label))\n",
    "            two_way.append((str2 + ' [SEP] ' + str1, label))\n",
    "        \n",
    "    one_way_df = pd.DataFrame(one_way, columns=['sents','labels'])\n",
    "    one_way_df = one_way_df.sample(len(one_way_df), random_state=np.random.RandomState(42))\n",
    "    \n",
    "    if split == 'train':\n",
    "        two_way_df = pd.DataFrame(two_way, columns=['sents','labels'])\n",
    "        two_way_df = two_way_df.sample(len(two_way_df), random_state=np.random.RandomState(42))\n",
    "    else:\n",
    "        two_way_df = one_way_df\n",
    "    \n",
    "    one_way_df.to_csv('/data/Bodenreider_UMLS_DL/Interns/Bernal/data/RW-UVA-2020AB-one-way/{}.tsv'.format(split), sep='\\t', quoting=3)\n",
    "    two_way_df.to_csv('/data/Bodenreider_UMLS_DL/Interns/Bernal/data/RW-UVA-2020AB-two-way/{}.tsv'.format(split), sep='\\t', quoting=3)"
   ]
  },
  {
   "cell_type": "code",
   "execution_count": null,
   "id": "e90798dd",
   "metadata": {},
   "outputs": [],
   "source": []
  }
 ],
 "metadata": {
  "kernelspec": {
   "display_name": "Python 3 (ipykernel)",
   "language": "python",
   "name": "python3"
  },
  "language_info": {
   "codemirror_mode": {
    "name": "ipython",
    "version": 3
   },
   "file_extension": ".py",
   "mimetype": "text/x-python",
   "name": "python",
   "nbconvert_exporter": "python",
   "pygments_lexer": "ipython3",
   "version": "3.7.12"
  }
 },
 "nbformat": 4,
 "nbformat_minor": 5
}
