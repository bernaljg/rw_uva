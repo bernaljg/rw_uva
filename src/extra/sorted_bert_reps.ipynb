{
 "cells": [
  {
   "cell_type": "code",
   "execution_count": null,
   "id": "7a9247d4",
   "metadata": {},
   "outputs": [],
   "source": [
    "import pickle\n",
    "import numpy as np\n",
    "import pandas as pd\n",
    "import os\n",
    "from tqdm import tqdm\n",
    "import copy\n",
    "import faiss"
   ]
  },
  {
   "cell_type": "code",
   "execution_count": null,
   "id": "0d4915ad",
   "metadata": {},
   "outputs": [],
   "source": [
    "import torch\n",
    "import transformers\n",
    "from transformers import AutoModel, AutoTokenizer#!/usr/bin/env python\n",
    "# coding: utf-8\n",
    "\n",
    "\n",
    "pt_model = 'cambridgeltl/SapBERT-from-PubMedBERT-fulltext'\n",
    "model = AutoModel.from_pretrained(pt_model)\n",
    "model.to('cuda')\n",
    "\n",
    "tokenizer = AutoTokenizer.from_pretrained(pt_model)"
   ]
  },
  {
   "cell_type": "code",
   "execution_count": null,
   "id": "af090ec7",
   "metadata": {},
   "outputs": [],
   "source": [
    "print('Loading Strings')\n",
    "\n",
    "sorted_umls_df = pd.read_csv('/data/Bodenreider_UMLS_DL/Interns/Bernal/sorted_umls2020_auis.csv',sep='\\t',index_col=0)\n",
    "\n",
    "print('Start Encoding')"
   ]
  },
  {
   "cell_type": "code",
   "execution_count": null,
   "id": "c03ed92e",
   "metadata": {},
   "outputs": [],
   "source": [
    "sorted_umls_df = sorted_umls_df.sort_values('0',ascending=False)"
   ]
  },
  {
   "cell_type": "code",
   "execution_count": null,
   "id": "57b2edba",
   "metadata": {},
   "outputs": [],
   "source": [
    "sort = sorted_umls_df"
   ]
  },
  {
   "cell_type": "code",
   "execution_count": null,
   "id": "0bc93ee3",
   "metadata": {},
   "outputs": [],
   "source": [
    "pd.set_option('max_rows',2000)"
   ]
  },
  {
   "cell_type": "code",
   "execution_count": null,
   "id": "c1c549dc",
   "metadata": {},
   "outputs": [],
   "source": [
    "all_cls = []\n",
    "\n",
    "with torch.no_grad():\n",
    "    \n",
    "    num_strings_proc = 0\n",
    "    vec_save_batch_num = 0    \n",
    "    batch_sizes = []\n",
    "    \n",
    "    text_batch = []\n",
    "    pad_size = 0\n",
    "    \n",
    "    curr_vecs = 0\n",
    "    \n",
    "    for i,row in tqdm(sort.iterrows(),total=len(sort)):\n",
    "        \n",
    "        string = str(row['strings'])\n",
    "        length = row[0]\n",
    "        \n",
    "        text_batch.append(string)\n",
    "        num_strings_proc += 1\n",
    "        \n",
    "        if length > pad_size:\n",
    "            pad_size = length\n",
    "        \n",
    "        if pad_size * len(text_batch) > 6000 or num_strings_proc == len(sort):\n",
    "\n",
    "            if not(os.path.exists('/data/Bodenreider_UMLS_DL/Interns/Bernal/umls2020_sapbert_vecs_{}.p'.format(vec_save_batch_num))):\n",
    "                text_batch = list(text_batch)\n",
    "                encoding = tokenizer(text_batch, return_tensors='pt', padding=True, truncation=True,max_length=model.config.max_length)\n",
    "                input_ids = encoding['input_ids']\n",
    "                attention_mask = encoding['attention_mask']\n",
    "\n",
    "                input_ids = input_ids.to('cuda')\n",
    "                attention_mask = attention_mask.to('cuda')\n",
    "\n",
    "                outputs = model(input_ids, attention_mask=attention_mask)\n",
    "                all_cls.append(outputs[0][:,0,:].cpu().numpy())\n",
    "            \n",
    "            batch_sizes.append(len(text_batch))\n",
    "            curr_vecs += 1\n",
    "            \n",
    "            text_batch = []\n",
    "            pad_size = 0\n",
    "            \n",
    "            if curr_vecs == 100:\n",
    "                print('Latest_batch_size {}'.format(batch_sizes[-1]))\n",
    "                print(sum(batch_sizes))\n",
    "                if not(os.path.exists('/data/Bodenreider_UMLS_DL/Interns/Bernal/umls2020_sapbert_vecs_{}.p'.format(vec_save_batch_num))):\n",
    "                    all_cls = np.vstack(all_cls)\n",
    "                    pickle.dump(all_cls, open('/data/Bodenreider_UMLS_DL/Interns/Bernal/umls2020_sapbert_vecs_{}.p'.format(vec_save_batch_num),'wb'))\n",
    "                \n",
    "                vec_save_batch_num += 1\n",
    "                all_cls = []\n",
    "                curr_vecs = 0\n",
    "                \n",
    "    if not(os.path.exists('/data/Bodenreider_UMLS_DL/Interns/Bernal/umls2020_sapbert_vecs_{}.p'.format(vec_save_batch_num))):\n",
    "        all_cls = np.vstack(all_cls)\n",
    "        pickle.dump(all_cls, open('/data/Bodenreider_UMLS_DL/Interns/Bernal/umls2020_sapbert_vecs_{}.p'.format(vec_save_batch_num),'wb'))"
   ]
  },
  {
   "cell_type": "code",
   "execution_count": null,
   "id": "7fb729fb",
   "metadata": {},
   "outputs": [],
   "source": [
    "vecs = []\n",
    "for i in range(167):\n",
    "    vecs.append(pickle.load(open('/data/Bodenreider_UMLS_DL/Interns/Bernal/umls2020_sapbert_vecs_{}.p'.format(i),'rb')))"
   ]
  },
  {
   "cell_type": "code",
   "execution_count": null,
   "id": "d2b38fc7",
   "metadata": {},
   "outputs": [],
   "source": [
    "vecs = np.vstack(vecs)"
   ]
  },
  {
   "cell_type": "code",
   "execution_count": null,
   "id": "df66a80a",
   "metadata": {},
   "outputs": [],
   "source": [
    "original_umls_2020, new_umls_2020 = pickle.load(open('aui_string_map_UMLS2020_update.p','rb'))\n",
    "\n",
    "original_auis = set([x[0] for x in original_umls_2020])"
   ]
  },
  {
   "cell_type": "code",
   "execution_count": null,
   "id": "2e894687",
   "metadata": {},
   "outputs": [],
   "source": [
    "synonym_dict = pickle.load(open('new_umls_synonym_aui_dict.p','rb'))"
   ]
  },
  {
   "cell_type": "code",
   "execution_count": null,
   "id": "e8158fd8",
   "metadata": {},
   "outputs": [],
   "source": [
    "new = []\n",
    "synonym_list = []\n",
    "\n",
    "for aui in tqdm(sorted_umls_df.auis):\n",
    "    \n",
    "    if aui in original_auis:\n",
    "        new.append(False)\n",
    "        synonym_list.append(None)\n",
    "    else:\n",
    "        new.append(True)\n",
    "        synonyms = synonym_dict[aui]\n",
    "        new_synonyms = []\n",
    "        \n",
    "        for aui in synonyms:\n",
    "            if aui in original_auis:\n",
    "                new_synonyms.append(aui)\n",
    "                \n",
    "        synonym_list.append(new_synonyms)"
   ]
  },
  {
   "cell_type": "code",
   "execution_count": null,
   "id": "6256ca51",
   "metadata": {},
   "outputs": [],
   "source": [
    "sorted_umls_df['2020AB?'] = new\n",
    "sorted_umls_df['2020AA_synonyms'] = synonym_list"
   ]
  },
  {
   "cell_type": "code",
   "execution_count": null,
   "id": "3b1700b5",
   "metadata": {},
   "outputs": [],
   "source": [
    "sorted_umls_df.groupby('2020AB?').count()"
   ]
  },
  {
   "cell_type": "code",
   "execution_count": null,
   "id": "b2a0bb10",
   "metadata": {},
   "outputs": [],
   "source": [
    "sorted_umls_df['sapbert_vecs'] = list(vecs)"
   ]
  },
  {
   "cell_type": "code",
   "execution_count": null,
   "id": "cc380be2",
   "metadata": {},
   "outputs": [],
   "source": [
    "sorted_umls_df"
   ]
  },
  {
   "cell_type": "code",
   "execution_count": null,
   "id": "92a0d7fb",
   "metadata": {},
   "outputs": [],
   "source": [
    "umls2020AA_df = sorted_umls_df[sorted_umls_df['2020AB?'] == False][['0','strings','auis']]\n",
    "umls2020AA_vecs = sorted_umls_df[sorted_umls_df['2020AB?'] == False].sapbert_vecs\n",
    "umls2020AA_vecs = np.vstack(umls2020AA_vecs)"
   ]
  },
  {
   "cell_type": "code",
   "execution_count": null,
   "id": "61a78b45",
   "metadata": {},
   "outputs": [],
   "source": [
    "umls2020AB_df = sorted_umls_df[sorted_umls_df['2020AB?']][['0','strings','auis','2020AA_synonyms']]\n",
    "umls2020AB_vecs = sorted_umls_df[sorted_umls_df['2020AB?']].sapbert_vecs\n",
    "umls2020AB_vecs = np.vstack(umls2020AB_vecs)"
   ]
  },
  {
   "cell_type": "code",
   "execution_count": null,
   "id": "361c5a68",
   "metadata": {},
   "outputs": [],
   "source": [
    "import faiss\n",
    "\n",
    "dim = 768"
   ]
  },
  {
   "cell_type": "code",
   "execution_count": null,
   "id": "f9fb70ab",
   "metadata": {},
   "outputs": [],
   "source": [
    "umls2020AB_vecs.shape"
   ]
  },
  {
   "cell_type": "code",
   "execution_count": null,
   "id": "14bdc9f1",
   "metadata": {},
   "outputs": [],
   "source": [
    "import gc\n",
    "import subprocess"
   ]
  },
  {
   "cell_type": "code",
   "execution_count": null,
   "id": "cf213d9c",
   "metadata": {},
   "outputs": [],
   "source": [
    "# np.save('/data/Bodenreider_UMLS_DL/Interns/Bernal/sapbert_vecs_for_queryAA', umls2020AA_vecs)"
   ]
  },
  {
   "cell_type": "code",
   "execution_count": null,
   "id": "cc0d50fa",
   "metadata": {},
   "outputs": [],
   "source": [
    "# np.save('/data/Bodenreider_UMLS_DL/Interns/Bernal/sapbert_vecs_for_queryAB', umls2020AB_vecs)"
   ]
  },
  {
   "cell_type": "code",
   "execution_count": null,
   "id": "ca11987d",
   "metadata": {},
   "outputs": [],
   "source": [
    "umls2020AA_vecs = np.load('/data/Bodenreider_UMLS_DL/Interns/Bernal/sapbert_vecs_for_queryAA.npy')\n",
    "umls2020AB_vecs = np.load('/data/Bodenreider_UMLS_DL/Interns/Bernal/sapbert_vecs_for_queryAB.npy')"
   ]
  },
  {
   "cell_type": "code",
   "execution_count": null,
   "id": "fe49cff8",
   "metadata": {},
   "outputs": [],
   "source": [
    "index_split = 3\n",
    "index_chunks = np.array_split(umls2020AA_vecs,index_split)\n",
    "query_chunks = np.array_split(umls2020AB_vecs,100)\n",
    "\n",
    "k = 2000\n",
    "\n",
    "index_chunk_D = []\n",
    "index_chunk_I = []\n",
    "\n",
    "current_zero_index = 0\n",
    "\n",
    "for index_chunk in index_chunks:\n",
    "    \n",
    "    index = faiss.IndexFlatL2(dim)   # build the index\n",
    "        \n",
    "    if faiss.get_num_gpus() > 1:\n",
    "        gpu_resources = []\n",
    "\n",
    "        for i in range(faiss.get_num_gpus()):\n",
    "            res = faiss.StandardGpuResources()\n",
    "            gpu_resources.append(res)\n",
    "\n",
    "        gpu_index = faiss.index_cpu_to_gpu_multiple_py(gpu_resources, index)\n",
    "    else:\n",
    "        gpu_resources = faiss.StandardGpuResources()\n",
    "        gpu_index = faiss.index_cpu_to_gpu(gpu_resources, 0, index)\n",
    "    \n",
    "    print(gpu_index.ntotal)\n",
    "    gpu_index.add(index_chunk)\n",
    "\n",
    "    D, I = [],[]\n",
    "\n",
    "    for q in tqdm(query_chunks):\n",
    "        d,i = gpu_index.search(q, k)\n",
    "\n",
    "        i += current_zero_index\n",
    "        \n",
    "        D.append(d)\n",
    "        I.append(i)\n",
    "        \n",
    "    index_chunk_D.append(D)\n",
    "    index_chunk_I.append(I)\n",
    "    \n",
    "    current_zero_index += len(index_chunk)\n",
    "    \n",
    "    print(subprocess.check_output(['nvidia-smi']))\n",
    "\n",
    "    del gpu_index\n",
    "    del gpu_resources\n",
    "    gc.collect()"
   ]
  },
  {
   "cell_type": "code",
   "execution_count": null,
   "id": "30d740ea",
   "metadata": {},
   "outputs": [],
   "source": [
    "index_chunk_D"
   ]
  },
  {
   "cell_type": "code",
   "execution_count": null,
   "id": "88bd4c43",
   "metadata": {},
   "outputs": [],
   "source": [
    "# x = 0\n",
    "# for d,i in zip(index_chunk_D, index_chunk_I):\n",
    "#     np.save('/data/Bodenreider_UMLS_DL/Interns/Bernal/d_{}'.format(x),np.array(d))\n",
    "#     np.save('/data/Bodenreider_UMLS_DL/Interns/Bernal/i_{}'.format(x),np.array(i))\n",
    "#     x += 1"
   ]
  },
  {
   "cell_type": "code",
   "execution_count": null,
   "id": "bb00cc57",
   "metadata": {},
   "outputs": [],
   "source": [
    "stacked_D = []\n",
    "stacked_I = []\n",
    "\n",
    "for D,I in zip(index_chunk_D, index_chunk_I):\n",
    "    \n",
    "    D = np.vstack(D)\n",
    "    I = np.vstack(I)\n",
    "    \n",
    "    stacked_D.append(D)\n",
    "    stacked_I.append(I)"
   ]
  },
  {
   "cell_type": "code",
   "execution_count": null,
   "id": "2da2f29a",
   "metadata": {},
   "outputs": [],
   "source": [
    "# x = 0\n",
    "# for d,i in zip(stacked_D, stacked_I):\n",
    "#     np.save('/data/Bodenreider_UMLS_DL/Interns/Bernal/stacked_d_{}'.format(x),np.array(d))\n",
    "#     np.save('/data/Bodenreider_UMLS_DL/Interns/Bernal/stacked_i_{}'.format(x),np.array(i))\n",
    "#     x += 1"
   ]
  },
  {
   "cell_type": "code",
   "execution_count": null,
   "id": "f405efc6",
   "metadata": {},
   "outputs": [],
   "source": [
    "# stacked_D = []\n",
    "# stacked_I = []\n",
    "# index_split = 3\n",
    "\n",
    "# for i in tqdm(range(index_split)):\n",
    "#     D = np.load('/data/Bodenreider_UMLS_DL/Interns/Bernal/stacked_d_{}.npy'.format(i))\n",
    "#     I = np.load('/data/Bodenreider_UMLS_DL/Interns/Bernal/stacked_i_{}.npy'.format(i))\n",
    "    \n",
    "#     stacked_D.append(D)\n",
    "#     stacked_I.append(I)"
   ]
  },
  {
   "cell_type": "code",
   "execution_count": null,
   "id": "5d6cd619",
   "metadata": {},
   "outputs": [],
   "source": [
    "stacked_D = np.hstack(stacked_D)\n",
    "stacked_I = np.hstack(stacked_I)"
   ]
  },
  {
   "cell_type": "code",
   "execution_count": null,
   "id": "ab8072d9",
   "metadata": {},
   "outputs": [],
   "source": [
    "full_sort_I = []\n",
    "full_sort_D = []\n",
    "\n",
    "for d, i in tqdm(zip(stacked_D, stacked_I)):\n",
    "    \n",
    "    sort_indices = np.argsort(d)\n",
    "    \n",
    "    i = i[sort_indices][:k]\n",
    "    d = d[sort_indices][:k]\n",
    "    \n",
    "    full_sort_I.append(i)\n",
    "    full_sort_D.append(d)"
   ]
  },
  {
   "cell_type": "code",
   "execution_count": null,
   "id": "d2dacb56",
   "metadata": {},
   "outputs": [],
   "source": [
    "# np.save('/data/Bodenreider_UMLS_DL/Interns/Bernal/sapbert_2000-NN-indices', np.array(full_sort_I))\n",
    "# np.save('/data/Bodenreider_UMLS_DL/Interns/Bernal/sapbert_2000-NN-dist', np.array(full_sort_D))"
   ]
  },
  {
   "cell_type": "code",
   "execution_count": null,
   "id": "d2defb91",
   "metadata": {},
   "outputs": [],
   "source": [
    "full_sort_I = np.load('/data/Bodenreider_UMLS_DL/Interns/Bernal/sapbert_2000-NN-indices.npy')\n",
    "full_sort_D = np.load('/data/Bodenreider_UMLS_DL/Interns/Bernal/sapbert_2000-NN-dist.npy')"
   ]
  },
  {
   "cell_type": "code",
   "execution_count": null,
   "id": "9a6da117",
   "metadata": {},
   "outputs": [],
   "source": [
    "full_sort_D.shape"
   ]
  },
  {
   "cell_type": "code",
   "execution_count": null,
   "id": "46e9000a",
   "metadata": {},
   "outputs": [],
   "source": [
    "umls_2020AA_auis = list(umls2020AA_df.auis)"
   ]
  },
  {
   "cell_type": "code",
   "execution_count": null,
   "id": "085443d1",
   "metadata": {},
   "outputs": [],
   "source": [
    "nearest_neighbors_auis = []\n",
    "\n",
    "for nn_inds in tqdm(full_sort_I):\n",
    "    \n",
    "    nn_auis = [umls_2020AA_auis[i] for i in nn_inds]\n",
    "    \n",
    "    nearest_neighbors_auis.append(nn_auis)"
   ]
  },
  {
   "cell_type": "code",
   "execution_count": null,
   "id": "c60b29e5",
   "metadata": {},
   "outputs": [],
   "source": [
    "umls2020AB_df"
   ]
  },
  {
   "cell_type": "code",
   "execution_count": null,
   "id": "40d3b10e",
   "metadata": {},
   "outputs": [],
   "source": [
    "query_synonym_auis = list(umls2020AB_df['2020AA_synonyms'])"
   ]
  },
  {
   "cell_type": "code",
   "execution_count": null,
   "id": "ff9e0e74",
   "metadata": {},
   "outputs": [],
   "source": [
    "#Calculating Recall @ 1,5,10,50,100\n",
    "recall_array = []\n",
    "closest_dist_true = []\n",
    "closest_dist_false = []\n",
    "\n",
    "for true_syn, top100, top100_dist in tqdm(zip(query_synonym_auis, nearest_neighbors_auis, full_sort_D)):\n",
    "    \n",
    "    true_syn = set(true_syn)\n",
    "    \n",
    "    if len(true_syn) > 0:\n",
    "        recalls = []\n",
    "\n",
    "        for n in [1,5,10,50,100,200,500,1000,2000]:\n",
    "\n",
    "            topn = set(top100[:n])\n",
    "            true_pos = topn.intersection(true_syn)\n",
    "\n",
    "            recalls.append(len(true_pos)/len(true_syn))\n",
    "\n",
    "        recall_array.append(recalls)\n",
    "        closest_dist_true.append([top100_dist[0], np.mean(top100_dist)])\n",
    "    else:\n",
    "        recalls = []\n",
    "\n",
    "        recall_array.append(recalls)\n",
    "        closest_dist_false.append([top100_dist[0], np.mean(top100_dist)])"
   ]
  },
  {
   "cell_type": "code",
   "execution_count": null,
   "id": "cc319a67",
   "metadata": {},
   "outputs": [],
   "source": [
    "recall_array"
   ]
  },
  {
   "cell_type": "code",
   "execution_count": null,
   "id": "95f9bcd8",
   "metadata": {},
   "outputs": [],
   "source": [
    "pd.DataFrame(recall_array).describe()"
   ]
  },
  {
   "cell_type": "code",
   "execution_count": null,
   "id": "250b2c81",
   "metadata": {},
   "outputs": [],
   "source": [
    "umls2020AA_aui2str = {}\n",
    "\n",
    "for aui, string in tqdm(zip(umls2020AA_df.auis, umls2020AA_df.strings)):\n",
    "    umls2020AA_aui2str[aui] = string"
   ]
  },
  {
   "cell_type": "code",
   "execution_count": null,
   "id": "6e6a85fd",
   "metadata": {},
   "outputs": [],
   "source": [
    "nearest_neighbors_strings = []\n",
    "\n",
    "for nn_auis in tqdm(nearest_neighbors_auis):\n",
    "    nn_strings = [umls2020AA_aui2str[aui] for aui in nn_auis]\n",
    "    \n",
    "    nearest_neighbors_strings.append(nn_strings)"
   ]
  },
  {
   "cell_type": "code",
   "execution_count": null,
   "id": "e3ac68d5",
   "metadata": {},
   "outputs": [],
   "source": [
    "synonym_strings = []\n",
    "\n",
    "for syn_auis in tqdm(umls2020AB_df['2020AA_synonyms']):\n",
    "    syn_strings = [umls2020AA_aui2str[aui] for aui in syn_auis]\n",
    "    \n",
    "    synonym_strings.append(syn_strings)"
   ]
  },
  {
   "cell_type": "code",
   "execution_count": null,
   "id": "b70ed39f",
   "metadata": {},
   "outputs": [],
   "source": [
    "nearest_neighbors_strings[0]"
   ]
  },
  {
   "cell_type": "code",
   "execution_count": null,
   "id": "fd64ce89",
   "metadata": {},
   "outputs": [],
   "source": [
    "umls2020AB_df['synonym_strings'] = synonym_strings"
   ]
  },
  {
   "cell_type": "code",
   "execution_count": null,
   "id": "9497bec8",
   "metadata": {},
   "outputs": [],
   "source": [
    "umls2020AB_df['sapbert_2000-NN_strings'] = nearest_neighbors_strings\n",
    "umls2020AB_df['sapbert_2000-NN_auis'] = nearest_neighbors_auis\n",
    "umls2020AB_df['sapbert_2000-NN_dist'] = list(full_sort_D)"
   ]
  },
  {
   "cell_type": "code",
   "execution_count": null,
   "id": "69dd2ebb",
   "metadata": {},
   "outputs": [],
   "source": [
    "umls2020AB_df['sapbert_2000-NN_recall'] = recall_array"
   ]
  },
  {
   "cell_type": "code",
   "execution_count": null,
   "id": "02f36c48",
   "metadata": {},
   "outputs": [],
   "source": [
    "umls2020AB_df['num_syms'] = [len(s) for s in umls2020AB_df['2020AA_synonyms']]"
   ]
  },
  {
   "cell_type": "code",
   "execution_count": null,
   "id": "6eac2a90",
   "metadata": {},
   "outputs": [],
   "source": [
    "pickle.dump(umls2020AB_df, open('/data/Bodenreider_UMLS_DL/Interns/Bernal/UMLS2020AB_{}-NN_DataFrame.p'.format(k),'wb'))"
   ]
  },
  {
   "cell_type": "code",
   "execution_count": null,
   "id": "cc7e7da3",
   "metadata": {},
   "outputs": [],
   "source": [
    "pd.set_option('max_colwidth',500)"
   ]
  },
  {
   "cell_type": "code",
   "execution_count": null,
   "id": "f93ecea8",
   "metadata": {},
   "outputs": [],
   "source": [
    "umls2020AB_df[umls2020AB_df['0'] > 100][['strings']]"
   ]
  },
  {
   "cell_type": "code",
   "execution_count": null,
   "id": "c5e94e55",
   "metadata": {},
   "outputs": [],
   "source": [
    "umls2020AB_df[(umls2020AB_df['0'] < 10) & (umls2020AB_df['num_syms'] > 0)][:100]"
   ]
  },
  {
   "cell_type": "code",
   "execution_count": null,
   "id": "0a496cc6",
   "metadata": {},
   "outputs": [],
   "source": [
    "del sorted_umls_df\n",
    "del umls2020AA_vecs\n",
    "del umls2020AB_vecs\n",
    "\n",
    "gc.collect()"
   ]
  },
  {
   "cell_type": "code",
   "execution_count": null,
   "id": "6ac37748",
   "metadata": {},
   "outputs": [],
   "source": [
    "np.stack(umls2020AB_df[umls2020AB_df.num_syms > 0]['sapbert_400-NN_recall']).mean(axis=0)"
   ]
  },
  {
   "cell_type": "code",
   "execution_count": null,
   "id": "2cea8e8c",
   "metadata": {},
   "outputs": [],
   "source": [
    "np.mean(closest_dist_true,axis=0)"
   ]
  },
  {
   "cell_type": "code",
   "execution_count": null,
   "id": "13c242b6",
   "metadata": {},
   "outputs": [],
   "source": [
    "np.mean(closest_dist_false,axis=0)"
   ]
  },
  {
   "cell_type": "code",
   "execution_count": null,
   "id": "2992527b",
   "metadata": {},
   "outputs": [],
   "source": [
    "!nvidia-smi"
   ]
  },
  {
   "cell_type": "code",
   "execution_count": null,
   "id": "2d3f07c0",
   "metadata": {},
   "outputs": [],
   "source": []
  }
 ],
 "metadata": {
  "kernelspec": {
   "display_name": "Python 3 (ipykernel)",
   "language": "python",
   "name": "python3"
  },
  "language_info": {
   "codemirror_mode": {
    "name": "ipython",
    "version": 3
   },
   "file_extension": ".py",
   "mimetype": "text/x-python",
   "name": "python",
   "nbconvert_exporter": "python",
   "pygments_lexer": "ipython3",
   "version": "3.7.12"
  }
 },
 "nbformat": 4,
 "nbformat_minor": 5
}
