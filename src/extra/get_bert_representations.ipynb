{
 "cells": [
  {
   "cell_type": "code",
   "execution_count": 3,
   "id": "24aa1503",
   "metadata": {},
   "outputs": [],
   "source": [
    "import pickle\n",
    "import numpy as np\n",
    "from tqdm import tqdm"
   ]
  },
  {
   "cell_type": "code",
   "execution_count": 5,
   "id": "493c103f",
   "metadata": {},
   "outputs": [],
   "source": [
    "all_cls = pickle.load(open('/data/jimenezgutierb2/umls2020_sapbert_vecs.p','rb'))"
   ]
  },
  {
   "cell_type": "code",
   "execution_count": 4,
   "id": "b45181df",
   "metadata": {},
   "outputs": [],
   "source": [
    "import torch\n",
    "import transformers\n",
    "from transformers import AutoModel, AutoTokenizer"
   ]
  },
  {
   "cell_type": "code",
   "execution_count": 5,
   "id": "9ae3f313",
   "metadata": {},
   "outputs": [],
   "source": [
    "pt_model = 'cambridgeltl/SapBERT-from-PubMedBERT-fulltext'\n",
    "model = AutoModel.from_pretrained(pt_model)\n",
    "model.to('cuda')\n",
    "\n",
    "tokenizer = AutoTokenizer.from_pretrained(pt_model)"
   ]
  },
  {
   "cell_type": "code",
   "execution_count": 3,
   "id": "a0c057b1",
   "metadata": {},
   "outputs": [],
   "source": [
    "# original_umls_2020, new_umls_2020 = pickle.load(open('aui_string_map_UMLS2020_update.p','rb'))"
   ]
  },
  {
   "cell_type": "code",
   "execution_count": 43,
   "id": "47904f0f",
   "metadata": {},
   "outputs": [],
   "source": [
    "# aui_strings = [t[1] for t in original_umls_2020]\n",
    "# auis = [t[0] for t in original_umls_2020]\n",
    "# aui_strings.extend([t[1] for t in new_umls_2020])\n",
    "# auis.extend([t[0] for t in new_umls_2020])"
   ]
  },
  {
   "cell_type": "code",
   "execution_count": 18,
   "id": "d9005e97",
   "metadata": {},
   "outputs": [
    {
     "name": "stderr",
     "output_type": "stream",
     "text": [
      "100%|████████████████████████████████████████████████████████████████████████████████████| 8951355/8951355 [1:06:36<00:00, 2239.59it/s]\n"
     ]
    }
   ],
   "source": [
    "lengths = []\n",
    "\n",
    "for text_batch in tqdm(aui_strings):\n",
    "    encoding = tokenizer(text_batch, return_tensors='pt', padding=True, truncation=False)\n",
    "    input_ids = encoding['input_ids']\n",
    "    \n",
    "    lengths.append(len(input_ids[0]))"
   ]
  },
  {
   "cell_type": "code",
   "execution_count": 19,
   "id": "81ec8037",
   "metadata": {},
   "outputs": [],
   "source": [
    "# pickle.dump(lengths, open('umls_string_lengths.p','wb'))"
   ]
  },
  {
   "cell_type": "code",
   "execution_count": 6,
   "id": "a1822614",
   "metadata": {},
   "outputs": [],
   "source": [
    "import pandas as pd"
   ]
  },
  {
   "cell_type": "code",
   "execution_count": 23,
   "id": "21734831",
   "metadata": {},
   "outputs": [],
   "source": [
    "lengths_df = pd.DataFrame(lengths)"
   ]
  },
  {
   "cell_type": "code",
   "execution_count": 44,
   "id": "b3d044b3",
   "metadata": {},
   "outputs": [],
   "source": [
    "lengths_df['strings'] = aui_strings\n",
    "lengths_df['auis'] = auis"
   ]
  },
  {
   "cell_type": "code",
   "execution_count": 55,
   "id": "83a23c96",
   "metadata": {},
   "outputs": [],
   "source": [
    "sorted_umls_df = lengths_df.sort_values(0)"
   ]
  },
  {
   "cell_type": "code",
   "execution_count": 47,
   "id": "c98fa22c",
   "metadata": {},
   "outputs": [],
   "source": [
    "long_indices = lengths_df[lengths_df[0] >= 50].sort_values(0)"
   ]
  },
  {
   "cell_type": "code",
   "execution_count": 56,
   "id": "61f1b932",
   "metadata": {},
   "outputs": [],
   "source": [
    "# sorted_umls_df.to_csv('/data/Bodenreider_UMLS_DL/Interns/Bernal/sorted_umls2020_auis.csv',sep='\\t')"
   ]
  },
  {
   "cell_type": "code",
   "execution_count": 8,
   "id": "d66c01e8",
   "metadata": {},
   "outputs": [],
   "source": [
    "sorted_umls_df = pd.read_csv('/data/Bodenreider_UMLS_DL/Interns/Bernal/sorted_umls2020_auis.csv',sep='\\t')"
   ]
  },
  {
   "cell_type": "code",
   "execution_count": 9,
   "id": "62e080b6",
   "metadata": {},
   "outputs": [],
   "source": [
    "aui_strings = sorted_umls_df.strings"
   ]
  },
  {
   "cell_type": "code",
   "execution_count": 14,
   "id": "3048c15b",
   "metadata": {},
   "outputs": [],
   "source": [
    "text_batch = aui_strings[:200]\n",
    "text_batch = list(text_batch)\n",
    "encoding = tokenizer(text_batch, return_tensors='pt', padding='max_length', truncation=True, max_length=60)\n",
    "input_ids = encoding['input_ids']\n",
    "attention_mask = encoding['attention_mask']"
   ]
  },
  {
   "cell_type": "code",
   "execution_count": 15,
   "id": "3743463c",
   "metadata": {},
   "outputs": [
    {
     "data": {
      "text/plain": [
       "torch.Size([200, 60])"
      ]
     },
     "execution_count": 15,
     "metadata": {},
     "output_type": "execute_result"
    }
   ],
   "source": [
    "input_ids.shape"
   ]
  },
  {
   "cell_type": "code",
   "execution_count": 16,
   "id": "036dee13",
   "metadata": {},
   "outputs": [],
   "source": [
    "input_ids = input_ids.to('cuda')\n",
    "attention_mask = attention_mask.to('cuda')\n",
    "\n",
    "outputs = model(input_ids, attention_mask=attention_mask)"
   ]
  },
  {
   "cell_type": "code",
   "execution_count": 21,
   "id": "7510af28",
   "metadata": {},
   "outputs": [],
   "source": [
    "input_ids = None\n",
    "attention_mask = None\n",
    "outputs = None"
   ]
  },
  {
   "cell_type": "code",
   "execution_count": 23,
   "id": "3f10de67",
   "metadata": {},
   "outputs": [
    {
     "name": "stdout",
     "output_type": "stream",
     "text": [
      "huggingface/tokenizers: The current process just got forked, after parallelism has already been used. Disabling parallelism to avoid deadlocks...\n",
      "To disable this warning, you can either:\n",
      "\t- Avoid using `tokenizers` before the fork if possible\n",
      "\t- Explicitly set the environment variable TOKENIZERS_PARALLELISM=(true | false)\n",
      "Sun Jun 12 21:07:49 2022       \n",
      "+-----------------------------------------------------------------------------+\n",
      "| NVIDIA-SMI 470.82.01    Driver Version: 470.82.01    CUDA Version: 11.4     |\n",
      "|-------------------------------+----------------------+----------------------+\n",
      "| GPU  Name        Persistence-M| Bus-Id        Disp.A | Volatile Uncorr. ECC |\n",
      "| Fan  Temp  Perf  Pwr:Usage/Cap|         Memory-Usage | GPU-Util  Compute M. |\n",
      "|                               |                      |               MIG M. |\n",
      "|===============================+======================+======================|\n",
      "|   0  Tesla K80           On   | 00000000:8B:00.0 Off |                  Off |\n",
      "| N/A   45C    P0    72W / 149W |  11958MiB / 12206MiB |      0%      Default |\n",
      "|                               |                      |                  N/A |\n",
      "+-------------------------------+----------------------+----------------------+\n",
      "                                                                               \n",
      "+-----------------------------------------------------------------------------+\n",
      "| Processes:                                                                  |\n",
      "|  GPU   GI   CI        PID   Type   Process name                  GPU Memory |\n",
      "|        ID   ID                                                   Usage      |\n",
      "|=============================================================================|\n",
      "|    0   N/A  N/A     16849      C   ...a/envs/rw_uva1/bin/python    11953MiB |\n",
      "+-----------------------------------------------------------------------------+\n"
     ]
    }
   ],
   "source": [
    "!nvidia-smi"
   ]
  },
  {
   "cell_type": "code",
   "execution_count": null,
   "id": "9a61942a",
   "metadata": {},
   "outputs": [],
   "source": []
  }
 ],
 "metadata": {
  "kernelspec": {
   "display_name": "Python 3 (ipykernel)",
   "language": "python",
   "name": "python3"
  },
  "language_info": {
   "codemirror_mode": {
    "name": "ipython",
    "version": 3
   },
   "file_extension": ".py",
   "mimetype": "text/x-python",
   "name": "python",
   "nbconvert_exporter": "python",
   "pygments_lexer": "ipython3",
   "version": "3.7.12"
  }
 },
 "nbformat": 4,
 "nbformat_minor": 5
}
