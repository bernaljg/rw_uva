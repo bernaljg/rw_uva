{
 "cells": [
  {
   "cell_type": "code",
   "execution_count": 1,
   "id": "c6c97446",
   "metadata": {},
   "outputs": [],
   "source": [
    "import numpy as np\n",
    "import pickle\n",
    "import pandas as pd"
   ]
  },
  {
   "cell_type": "code",
   "execution_count": 2,
   "id": "5de941bc",
   "metadata": {},
   "outputs": [],
   "source": [
    "original_auis_filename='/data/Bodenreider_UMLS_DL/Interns/Vishesh/eval_umls/INTERSECT_AUI2ID.PICKLE'\n",
    "new_auis_filename='/data/Bodenreider_UMLS_DL/Interns/Vishesh/eval_umls/UNIQUE_AUI2ID.PICKLE'\n",
    "\n",
    "original_auis = pickle.load(open(original_auis_filename, 'rb'))\n",
    "new_auis = pickle.load(open(new_auis_filename, 'rb'))"
   ]
  },
  {
   "cell_type": "code",
   "execution_count": 3,
   "id": "13742588",
   "metadata": {},
   "outputs": [],
   "source": [
    "original_auis = list(original_auis.keys())\n",
    "new_auis = list(new_auis.keys())"
   ]
  },
  {
   "cell_type": "code",
   "execution_count": 6,
   "id": "b54e1b2d",
   "metadata": {},
   "outputs": [],
   "source": [
    "pickle.dump(original_auis,open('../data/vishesh_dataset_original_auis.p','wb'))\n",
    "pickle.dump(new_auis,open('../data/vishesh_dataset_new_auis.p','wb'))"
   ]
  },
  {
   "cell_type": "code",
   "execution_count": null,
   "id": "cf1bf04e",
   "metadata": {},
   "outputs": [],
   "source": [
    "pickle.dump(original_auis[:1000],open('../data/vishesh_dataset_subset_original_auis.p','wb'))\n",
    "pickle.dump(new_auis[:1000],open('../data/vishesh_dataset_subset_new_auis.p','wb'))"
   ]
  }
 ],
 "metadata": {
  "kernelspec": {
   "display_name": "Python 3 (ipykernel)",
   "language": "python",
   "name": "python3"
  },
  "language_info": {
   "codemirror_mode": {
    "name": "ipython",
    "version": 3
   },
   "file_extension": ".py",
   "mimetype": "text/x-python",
   "name": "python",
   "nbconvert_exporter": "python",
   "pygments_lexer": "ipython3",
   "version": "3.7.12"
  }
 },
 "nbformat": 4,
 "nbformat_minor": 5
}
