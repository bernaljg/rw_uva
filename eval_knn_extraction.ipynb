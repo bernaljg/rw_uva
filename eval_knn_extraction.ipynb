{
 "cells": [
  {
   "cell_type": "code",
   "execution_count": null,
   "id": "c496066b",
   "metadata": {},
   "outputs": [],
   "source": [
    "\"\"\"\n",
    "Script to evaluate kNN retrieval using either pre-computed vectors or a BERT model available in \n",
    "the Huggingface model library or saved locally.\n",
    "\n",
    "Inputs\n",
    "\n",
    "- Original AUI Set: Set of AUIs to be used as the original ontology (the ontology to which new \n",
    "AUIs will be attached).\n",
    "\n",
    "- New AUI Set: Set of AUIs to be attached to \"original\" ontology.\n",
    "\n",
    "- K: Number of nearest neighbors to extract from original ontology for \n",
    "each new term. \n",
    "\n",
    "- New Term Set (Optional): If terms are not AUIs they can still be linked to the original \n",
    "ontology using only strings.\n",
    "\n",
    "- Vector Dictionary (Optional): Python dictionary mapping AUIs or Strings to numpy vectors.\n",
    "\n",
    "Outputs\n",
    "\n",
    "- Set of K nearest neighbors from original ontology for each new AUI or term.\n",
    "\n",
    "- Table with Recall @ 1,5,10,50,100,200,1000,2000\n",
    "\n",
    "\n",
    "\n",
    "\"\"\""
   ]
  },
  {
   "cell_type": "code",
   "execution_count": null,
   "id": "dd740c5d",
   "metadata": {},
   "outputs": [],
   "source": [
    "old_aui_filename = \n",
    "new_aui_filename = \n",
    "aui_vecs_filename = \n",
    "\n",
    "if aui_vecs_filename == '':\n",
    "    compute_vecs = True\n",
    "else:\n",
    "    compute_vecs = False"
   ]
  }
 ],
 "metadata": {
  "kernelspec": {
   "display_name": "Python 3 (ipykernel)",
   "language": "python",
   "name": "python3"
  },
  "language_info": {
   "codemirror_mode": {
    "name": "ipython",
    "version": 3
   },
   "file_extension": ".py",
   "mimetype": "text/x-python",
   "name": "python",
   "nbconvert_exporter": "python",
   "pygments_lexer": "ipython3",
   "version": "3.7.12"
  }
 },
 "nbformat": 4,
 "nbformat_minor": 5
}
