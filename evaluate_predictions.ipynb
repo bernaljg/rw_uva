{
 "cells": [
  {
   "cell_type": "code",
   "execution_count": null,
   "id": "ca228676",
   "metadata": {},
   "outputs": [],
   "source": [
    "import pickle\n",
    "import pandas as pd\n",
    "from tqdm import tqdm"
   ]
  },
  {
   "cell_type": "code",
   "execution_count": null,
   "id": "0241133e",
   "metadata": {},
   "outputs": [],
   "source": [
    "pd.set_option('display.max_rows',500)"
   ]
  },
  {
   "cell_type": "code",
   "execution_count": null,
   "id": "ff88ce75",
   "metadata": {},
   "outputs": [],
   "source": [
    "aui_info = []\n",
    "\n",
    "with open('/data/Bodenreider_UMLS_DL/UMLS_VERSIONS/2020AB-ACTIVE/META/MRCONSO.RRF','r') as fp:\n",
    "    \n",
    "    for line in fp.readlines():\n",
    "        line = line.split('|')\n",
    "        cui = line[0]\n",
    "        aui = line[7]\n",
    "        string = line[-5]\n",
    "        \n",
    "        aui_info.append({'AUI':aui, 'CUI':cui, 'STR':string})\n",
    "        \n",
    "cui2sg = {}\n",
    "\n",
    "with open('/data/Bodenreider_UMLS_DL/UMLS_VERSIONS/2020AB-ACTIVE/META/MRSTY.RRF','r') as fp:\n",
    "    \n",
    "    for line in fp.readlines():\n",
    "        line = line.split('|')\n",
    "        cui = line[0]\n",
    "        sg = line[3]\n",
    "        cui2sg[cui] = sg"
   ]
  },
  {
   "cell_type": "code",
   "execution_count": null,
   "id": "abdfefe1",
   "metadata": {},
   "outputs": [],
   "source": [
    "cui2aui = {}\n",
    "aui2cui = {}\n",
    "aui2sg = {}\n",
    "\n",
    "cui_sg = []\n",
    "cui_aui = []\n",
    "\n",
    "for tup in aui_info:\n",
    "    aui = tup['AUI']\n",
    "    cui = tup['CUI']\n",
    "    sg = cui2sg[cui]\n",
    "    \n",
    "    auis = cui2aui.get(cui, [])\n",
    "    auis.append(aui)\n",
    "    cui2aui[cui] = auis\n",
    "    \n",
    "    aui2cui[aui] = cui\n",
    "    \n",
    "    cui_sg.append((cui, sg))\n",
    "    cui_aui.append((cui, aui))"
   ]
  },
  {
   "cell_type": "code",
   "execution_count": null,
   "id": "224cf6c8",
   "metadata": {},
   "outputs": [],
   "source": [
    "cui_df = pd.DataFrame(cui_sg, columns=['cui','sg']).drop_duplicates()\n",
    "cui_aui_df = pd.DataFrame(cui_aui, columns=['cui','aui']).drop_duplicates()"
   ]
  },
  {
   "cell_type": "code",
   "execution_count": null,
   "id": "21986ccc",
   "metadata": {},
   "outputs": [],
   "source": [
    "cui_sg_count = cui_df.groupby('cui').count()\n",
    "cui_sg_count['num'] = 1\n",
    "cui_sg_count.groupby('sg').count()"
   ]
  },
  {
   "cell_type": "code",
   "execution_count": null,
   "id": "b4aa7a93",
   "metadata": {},
   "outputs": [],
   "source": [
    "cui_aui_count = cui_aui_df.groupby('cui').count()\n",
    "cui_aui_count['num'] = 1\n",
    "cui_aui_count.groupby('aui').count().sort_values('num',ascending=False)"
   ]
  },
  {
   "cell_type": "code",
   "execution_count": null,
   "id": "2bce8f26",
   "metadata": {},
   "outputs": [],
   "source": [
    "cui_df.groupby('sg').count().sort_values('cui',ascending=False)"
   ]
  },
  {
   "cell_type": "code",
   "execution_count": null,
   "id": "ca4fdb2b",
   "metadata": {},
   "outputs": [],
   "source": [
    "test_preds = pd.read_csv('errors_pred.csv')"
   ]
  },
  {
   "cell_type": "code",
   "execution_count": null,
   "id": "2ca23bf2",
   "metadata": {},
   "outputs": [],
   "source": [
    "test_preds"
   ]
  },
  {
   "cell_type": "code",
   "execution_count": null,
   "id": "68c3da15",
   "metadata": {},
   "outputs": [],
   "source": [
    "test_set = pd.read_csv('all_testset.csv')"
   ]
  },
  {
   "cell_type": "code",
   "execution_count": null,
   "id": "62172614",
   "metadata": {},
   "outputs": [],
   "source": [
    "fps = pd.read_csv('/data/Bodenreider_UMLS_DL/thilini/EXPERIMENTS/error_analysis/FP_with_auis.csv',sep='|')"
   ]
  },
  {
   "cell_type": "code",
   "execution_count": null,
   "id": "ed00f59e",
   "metadata": {},
   "outputs": [],
   "source": [
    "fps"
   ]
  },
  {
   "cell_type": "code",
   "execution_count": null,
   "id": "95e84b6e",
   "metadata": {},
   "outputs": [],
   "source": [
    "def same_sg_edge(aui1, aui2):\n",
    "    \n",
    "    cui1 = aui2cui[aui1]\n",
    "    cui2 = aui2cui[aui2]\n",
    "\n",
    "    sg1 = cui2sg[cui1]\n",
    "    sg2 = cui2sg[cui2]\n",
    "    \n",
    "    if sg1 == sg2:\n",
    "        return True\n",
    "    else:\n",
    "        return False\n",
    "\n",
    "inter_sg_fps = []\n",
    "intra_sg_fps = []\n",
    "\n",
    "present = 0\n",
    "total_edges = 0\n",
    "\n",
    "for i, row in tqdm(fps.iterrows()):    \n",
    "    aui1 = row['aui1']\n",
    "    aui2 = row['aui2']\n",
    "    \n",
    "    total_edges += 1\n",
    "    \n",
    "    if aui1 in aui2cui and aui2 in aui2cui:\n",
    "        \n",
    "        if same_sg_edge(aui1, aui2):\n",
    "            intra_sg_fps.append(row)\n",
    "        else:\n",
    "            inter_sg_fps.append(row)\n",
    "            \n",
    "        present += 1"
   ]
  },
  {
   "cell_type": "code",
   "execution_count": null,
   "id": "afaf7e79",
   "metadata": {},
   "outputs": [],
   "source": [
    "len(inter_sg_fps)"
   ]
  },
  {
   "cell_type": "code",
   "execution_count": null,
   "id": "e6e7f22c",
   "metadata": {},
   "outputs": [],
   "source": [
    "len(intra_sg_fps)"
   ]
  },
  {
   "cell_type": "code",
   "execution_count": null,
   "id": "4bc01a8c",
   "metadata": {},
   "outputs": [],
   "source": [
    "aui2cui['A24114892']"
   ]
  },
  {
   "cell_type": "code",
   "execution_count": null,
   "id": "9730ff2b",
   "metadata": {},
   "outputs": [],
   "source": []
  }
 ],
 "metadata": {
  "kernelspec": {
   "display_name": "Python 3 (ipykernel)",
   "language": "python",
   "name": "python3"
  },
  "language_info": {
   "codemirror_mode": {
    "name": "ipython",
    "version": 3
   },
   "file_extension": ".py",
   "mimetype": "text/x-python",
   "name": "python",
   "nbconvert_exporter": "python",
   "pygments_lexer": "ipython3",
   "version": "3.7.12"
  }
 },
 "nbformat": 4,
 "nbformat_minor": 5
}
